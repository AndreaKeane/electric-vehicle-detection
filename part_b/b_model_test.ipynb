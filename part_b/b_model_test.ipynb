{
 "cells": [
  {
   "cell_type": "code",
   "execution_count": 16,
   "metadata": {},
   "outputs": [
    {
     "name": "stdout",
     "output_type": "stream",
     "text": [
      "The autoreload extension is already loaded. To reload it, use:\n",
      "  %reload_ext autoreload\n"
     ]
    }
   ],
   "source": [
    "# Setup\n",
    "%load_ext autoreload\n",
    "%autoreload 2\n",
    "import matplotlib.pyplot as plt\n",
    "import numpy as np\n",
    "import pandas as pd\n",
    "import seaborn as sns\n",
    "import warnings\n",
    "from pathlib import Path\n",
    "from sklearn.linear_model import LogisticRegression\n",
    "\n",
    "# Import custom methods\n",
    "import sys\n",
    "sys.path.append(\"../\") # go to parent dir\n",
    "from utilities import utilities as utils\n",
    "\n",
    "# Ignore deprecation warnings\n",
    "warnings.simplefilter(action='ignore', category=FutureWarning)"
   ]
  },
  {
   "cell_type": "code",
   "execution_count": 17,
   "metadata": {},
   "outputs": [],
   "source": [
    "# Read in data, check formatting compatibility\n",
    "pickle_path = Path('/Users/andreakeane/Documents/DataScience/GridCure_Problems/pickles/')\n",
    "labels = pd.read_pickle(pickle_path / \"labels.pkl\")\n",
    "X = pd.read_pickle(pickle_path / \"X_all.pkl\")\n",
    "y = pd.read_pickle(pickle_path / \"y_all.pkl\")\n",
    "\n",
    "if X.shape[0] != y.shape[0]: \n",
    "    # TODO: Raise Error\n",
    "    print(\"ERROR. Dataframe shapes don't match.\\n\"\n",
    "          \"X Rows: {}\"\n",
    "          \"y Rows: {}\".format(X.shape, y.shape))"
   ]
  },
  {
   "cell_type": "code",
   "execution_count": 18,
   "metadata": {},
   "outputs": [
    {
     "name": "stdout",
     "output_type": "stream",
     "text": [
      "1105 Houses without EVs\n",
      "Features:\n",
      "\tvalue\n",
      "\tdiff\n",
      "\th8_avg\n",
      "\th24_avg\n",
      "\th24_min\n",
      "\th24_max\n",
      "\th72_avg\n",
      "\tdiff_2\n",
      "\tdiff_3\n",
      "\tdiff_5\n"
     ]
    }
   ],
   "source": [
    "# Remove houses without EVs\n",
    "houses_woEV = utils.get_pickle(pickle_path / \"houses_woEV.pkl\")\n",
    "print(\"{} Houses without EVs\".format(len(houses_woEV)))\n",
    "\n",
    "y = y.drop(houses_woEV, errors='ignore')\n",
    "X = X.drop(houses_woEV, errors='ignore')\n",
    "\n",
    "print(\"Features:\")\n",
    "for feature in X.columns.tolist(): \n",
    "    print(\"\\t\" + feature)"
   ]
  },
  {
   "cell_type": "code",
   "execution_count": 19,
   "metadata": {},
   "outputs": [],
   "source": [
    "# Split data\n",
    "# Same features and splits used for all models\n",
    "X_train, X_test, y_train, y_test = utils.scale_split_data(X, y)"
   ]
  },
  {
   "cell_type": "code",
   "execution_count": 20,
   "metadata": {},
   "outputs": [],
   "source": [
    "# Logistic Regression \n",
    "from sklearn.linear_model import LogisticRegression\n",
    "LR = LogisticRegression(random_state=0).fit(X_train, np.ravel(y_train))  \n",
    "lr_score = LR.score(X_test,y_test)"
   ]
  },
  {
   "cell_type": "code",
   "execution_count": 22,
   "metadata": {},
   "outputs": [
    {
     "name": "stderr",
     "output_type": "stream",
     "text": [
      "/usr/local/lib/python3.7/site-packages/sklearn/svm/base.py:929: ConvergenceWarning: Liblinear failed to converge, increase the number of iterations.\n",
      "  \"the number of iterations.\", ConvergenceWarning)\n"
     ]
    }
   ],
   "source": [
    "# SVM\n",
    "from sklearn import svm\n",
    "SVM = svm.LinearSVC(random_state=0).fit(X_train, np.ravel(y_train))  \n",
    "svm_score = SVM.score(X_test,y_test)"
   ]
  },
  {
   "cell_type": "code",
   "execution_count": 23,
   "metadata": {},
   "outputs": [],
   "source": [
    "# Neural Network\n",
    "from sklearn.neural_network import MLPClassifier \n",
    "NN = MLPClassifier(random_state=0).fit(X_train, np.ravel(y_train))    \n",
    "nn_score = NN.score(X_test, y_test)"
   ]
  },
  {
   "cell_type": "code",
   "execution_count": 24,
   "metadata": {},
   "outputs": [],
   "source": [
    "# Random Forest\n",
    "from sklearn.ensemble import RandomForestClassifier\n",
    "RF = RandomForestClassifier(random_state=0).fit(X_train, np.ravel(y_train))  \n",
    "rf_score = RF.score(X_test,y_test)"
   ]
  },
  {
   "cell_type": "code",
   "execution_count": 25,
   "metadata": {},
   "outputs": [],
   "source": [
    "# KNN\n",
    "from sklearn.neighbors import KNeighborsClassifier\n",
    "neigh = KNeighborsClassifier().fit(X_train, y_train) \n",
    "knn_score = neigh.score(X_test,y_test)"
   ]
  },
  {
   "cell_type": "code",
   "execution_count": 26,
   "metadata": {},
   "outputs": [
    {
     "name": "stdout",
     "output_type": "stream",
     "text": [
      "Logistic Regression Score: 0.946\n",
      "SVM Score: 0.945\n",
      "Neural Network Score: 0.957\n",
      "Random Forest Score: 0.960\n",
      "K-Nearest Neighbors Score: 0.959\n",
      "\n"
     ]
    }
   ],
   "source": [
    "print(\n",
    "    \"Logistic Regression Score: {:.3f}\\n\"\n",
    "    \"SVM Score: {:.3f}\\n\"\n",
    "    \"Neural Network Score: {:.3f}\\n\"\n",
    "    \"Random Forest Score: {:.3f}\\n\"\n",
    "    \"K-Nearest Neighbors Score: {:.3f}\\n\".format(lr_score, svm_score, nn_score, rf_score, knn_score)\n",
    ")"
   ]
  },
  {
   "cell_type": "code",
   "execution_count": null,
   "metadata": {},
   "outputs": [],
   "source": [
    "# KNN - Extra Testing\n",
    "from sklearn.neighbors import KNeighborsClassifier\n",
    "n_neighbors = [1, 3, 5, 7, 9, 11, 13, 15, 17, 19]\n",
    "scores = pd.DataFrame(columns=['neighbors', 'train', 'test'])\n",
    "for n in n_neighbors:\n",
    "    neigh = KNeighborsClassifier(n_neighbors=n).fit(X_train, y_train) \n",
    "    train_score = neigh.score(X_train,y_train)\n",
    "    test_score = neigh.score(X_test,y_test)\n",
    "    scores = scores.append({'neighbors': n, \n",
    "                            'train': train_score, \n",
    "                            'test': test_score}, ignore_index=True)\n",
    "    print(scores)\n",
    "\n",
    "scores"
   ]
  },
  {
   "cell_type": "code",
   "execution_count": null,
   "metadata": {},
   "outputs": [],
   "source": []
  },
  {
   "cell_type": "code",
   "execution_count": null,
   "metadata": {},
   "outputs": [],
   "source": []
  }
 ],
 "metadata": {
  "kernelspec": {
   "display_name": "Python 3",
   "language": "python",
   "name": "python3"
  },
  "language_info": {
   "codemirror_mode": {
    "name": "ipython",
    "version": 3
   },
   "file_extension": ".py",
   "mimetype": "text/x-python",
   "name": "python",
   "nbconvert_exporter": "python",
   "pygments_lexer": "ipython3",
   "version": "3.7.3"
  }
 },
 "nbformat": 4,
 "nbformat_minor": 2
}
