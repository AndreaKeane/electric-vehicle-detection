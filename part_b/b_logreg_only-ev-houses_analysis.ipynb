{
 "cells": [
  {
   "cell_type": "code",
   "execution_count": 1,
   "metadata": {},
   "outputs": [],
   "source": [
    "# Setup\n",
    "import matplotlib.pyplot as plt\n",
    "import numpy as np\n",
    "import pandas as pd\n",
    "import seaborn as sns\n",
    "import warnings\n",
    "\n",
    "from pathlib import Path\n",
    "from sklearn.preprocessing import StandardScaler\n",
    "from sklearn.model_selection import train_test_split \n",
    "from sklearn.linear_model import LogisticRegression\n",
    "\n",
    "# Ignore deprecation warnings\n",
    "warnings.simplefilter(action='ignore', category=FutureWarning)"
   ]
  },
  {
   "cell_type": "code",
   "execution_count": 2,
   "metadata": {},
   "outputs": [],
   "source": [
    "# Import customer methods\n",
    "import sys\n",
    "sys.path.append(\"../\") # go to parent dir\n",
    "from utilities import utilities as utils\n",
    "\n",
    "%load_ext autoreload\n",
    "%autoreload 2"
   ]
  },
  {
   "cell_type": "code",
   "execution_count": 3,
   "metadata": {},
   "outputs": [],
   "source": [
    "# Read in data, check formatting compatibility\n",
    "pickle_path = Path('/Users/andreakeane/Documents/DataScience/GridCure_Problems/pickles/')\n",
    "labels = pd.read_pickle(pickle_path / \"labels.pkl\")\n",
    "X = pd.read_pickle(pickle_path / \"X_all.pkl\")\n",
    "y = pd.read_pickle(pickle_path / \"y_all.pkl\")\n",
    "\n",
    "if X.shape[0] != y.shape[0]: \n",
    "    # TODO: Raise Error\n",
    "    print(\"ERROR. Dataframe shapes don't match.\")\n",
    "    print(\"X Rows: {}\".format(X.shape))\n",
    "    print(\"y Rows: {}\".format(y.shape))"
   ]
  },
  {
   "cell_type": "code",
   "execution_count": 4,
   "metadata": {},
   "outputs": [
    {
     "name": "stdout",
     "output_type": "stream",
     "text": [
      "1105 Houses without EVs\n",
      "Features:\n",
      "\tvalue\n",
      "\tdiff\n",
      "\th8_avg\n",
      "\th24_avg\n",
      "\th24_min\n",
      "\th24_max\n",
      "\th72_avg\n",
      "\tdiff_2\n",
      "\tdiff_3\n",
      "\tdiff_5\n"
     ]
    }
   ],
   "source": [
    "# Remove houses without EVs\n",
    "houses_woEV = utils.get_pickle(pickle_path / \"houses_woEV.pkl\")\n",
    "print(\"{} Houses without EVs\".format(len(houses_woEV)))\n",
    "\n",
    "y = y.drop(houses_woEV, errors='ignore')\n",
    "X = X.drop(houses_woEV, errors='ignore')\n",
    "\n",
    "print(\"Features:\")\n",
    "for feature in X.columns.tolist(): \n",
    "    print(\"\\t\" + feature)"
   ]
  },
  {
   "cell_type": "code",
   "execution_count": 59,
   "metadata": {},
   "outputs": [
    {
     "name": "stdout",
     "output_type": "stream",
     "text": [
      "Test Score: 0.946\n"
     ]
    }
   ],
   "source": [
    "# Proceeding with all features\n",
    "# Scale X-data between -1 and 1\n",
    "scaler = StandardScaler().fit(X)                                    \n",
    "X_scaled = pd.DataFrame(scaler.transform(X), \n",
    "                        index=X.index, \n",
    "                        columns=X.columns)\n",
    "\n",
    "# Split data into training and testing\n",
    "X_train, X_test, y_train, y_test = train_test_split(X_scaled, y, random_state=0)\n",
    "\n",
    "# Train logistic regression model\n",
    "logreg = LogisticRegression(solver='liblinear', random_state=0)\n",
    "logreg.fit(X_train, y_train)\n",
    "score = logreg.score(X_test, y_test)\n",
    "\n",
    "print(\"Test Score: {:.3f}\".format(score))"
   ]
  },
  {
   "cell_type": "code",
   "execution_count": 9,
   "metadata": {},
   "outputs": [
    {
     "data": {
      "text/html": [
       "<div>\n",
       "<style scoped>\n",
       "    .dataframe tbody tr th:only-of-type {\n",
       "        vertical-align: middle;\n",
       "    }\n",
       "\n",
       "    .dataframe tbody tr th {\n",
       "        vertical-align: top;\n",
       "    }\n",
       "\n",
       "    .dataframe thead th {\n",
       "        text-align: right;\n",
       "    }\n",
       "</style>\n",
       "<table border=\"1\" class=\"dataframe\">\n",
       "  <thead>\n",
       "    <tr style=\"text-align: right;\">\n",
       "      <th></th>\n",
       "      <th></th>\n",
       "      <th>value</th>\n",
       "      <th>diff</th>\n",
       "      <th>h8_avg</th>\n",
       "      <th>h24_avg</th>\n",
       "      <th>h24_min</th>\n",
       "      <th>h24_max</th>\n",
       "      <th>h72_avg</th>\n",
       "      <th>diff_2</th>\n",
       "      <th>diff_3</th>\n",
       "      <th>diff_5</th>\n",
       "      <th>label_true</th>\n",
       "      <th>label_pred</th>\n",
       "      <th>label_prob</th>\n",
       "    </tr>\n",
       "    <tr>\n",
       "      <th>House ID</th>\n",
       "      <th></th>\n",
       "      <th></th>\n",
       "      <th></th>\n",
       "      <th></th>\n",
       "      <th></th>\n",
       "      <th></th>\n",
       "      <th></th>\n",
       "      <th></th>\n",
       "      <th></th>\n",
       "      <th></th>\n",
       "      <th></th>\n",
       "      <th></th>\n",
       "      <th></th>\n",
       "      <th></th>\n",
       "    </tr>\n",
       "  </thead>\n",
       "  <tbody>\n",
       "    <tr>\n",
       "      <th>11650698</th>\n",
       "      <th>Interval_363</th>\n",
       "      <td>0.272896</td>\n",
       "      <td>0.810086</td>\n",
       "      <td>-0.438764</td>\n",
       "      <td>-0.032059</td>\n",
       "      <td>-0.309952</td>\n",
       "      <td>0.653146</td>\n",
       "      <td>-0.077920</td>\n",
       "      <td>-0.072839</td>\n",
       "      <td>0.009842</td>\n",
       "      <td>-0.003572</td>\n",
       "      <td>0.0</td>\n",
       "      <td>0.0</td>\n",
       "      <td>0.025503</td>\n",
       "    </tr>\n",
       "    <tr>\n",
       "      <th>11639403</th>\n",
       "      <th>Interval_2440</th>\n",
       "      <td>-0.146830</td>\n",
       "      <td>-0.320916</td>\n",
       "      <td>1.268724</td>\n",
       "      <td>0.658936</td>\n",
       "      <td>0.076974</td>\n",
       "      <td>0.162190</td>\n",
       "      <td>0.925085</td>\n",
       "      <td>-0.189953</td>\n",
       "      <td>-0.005106</td>\n",
       "      <td>-0.003658</td>\n",
       "      <td>0.0</td>\n",
       "      <td>0.0</td>\n",
       "      <td>0.003878</td>\n",
       "    </tr>\n",
       "    <tr>\n",
       "      <th>11640980</th>\n",
       "      <th>Interval_2854</th>\n",
       "      <td>-0.778823</td>\n",
       "      <td>-0.213907</td>\n",
       "      <td>-0.858461</td>\n",
       "      <td>-0.709185</td>\n",
       "      <td>-0.612318</td>\n",
       "      <td>-0.975479</td>\n",
       "      <td>-0.741140</td>\n",
       "      <td>-0.202079</td>\n",
       "      <td>-0.004489</td>\n",
       "      <td>-0.003657</td>\n",
       "      <td>0.0</td>\n",
       "      <td>0.0</td>\n",
       "      <td>0.019846</td>\n",
       "    </tr>\n",
       "    <tr>\n",
       "      <th>11637471</th>\n",
       "      <th>Interval_944</th>\n",
       "      <td>-0.118795</td>\n",
       "      <td>0.001757</td>\n",
       "      <td>1.271712</td>\n",
       "      <td>-0.033737</td>\n",
       "      <td>-0.522634</td>\n",
       "      <td>0.010646</td>\n",
       "      <td>-0.457655</td>\n",
       "      <td>-0.211778</td>\n",
       "      <td>-0.004229</td>\n",
       "      <td>-0.003657</td>\n",
       "      <td>0.0</td>\n",
       "      <td>0.0</td>\n",
       "      <td>0.020542</td>\n",
       "    </tr>\n",
       "    <tr>\n",
       "      <th>11642554</th>\n",
       "      <th>Interval_867</th>\n",
       "      <td>-0.319847</td>\n",
       "      <td>-0.829620</td>\n",
       "      <td>-0.101699</td>\n",
       "      <td>-0.394378</td>\n",
       "      <td>-0.763501</td>\n",
       "      <td>-0.985439</td>\n",
       "      <td>-0.074867</td>\n",
       "      <td>-0.065979</td>\n",
       "      <td>-0.019356</td>\n",
       "      <td>-0.003753</td>\n",
       "      <td>0.0</td>\n",
       "      <td>0.0</td>\n",
       "      <td>0.027996</td>\n",
       "    </tr>\n",
       "  </tbody>\n",
       "</table>\n",
       "</div>"
      ],
      "text/plain": [
       "                           value      diff    h8_avg   h24_avg   h24_min  \\\n",
       "House ID                                                                   \n",
       "11650698 Interval_363   0.272896  0.810086 -0.438764 -0.032059 -0.309952   \n",
       "11639403 Interval_2440 -0.146830 -0.320916  1.268724  0.658936  0.076974   \n",
       "11640980 Interval_2854 -0.778823 -0.213907 -0.858461 -0.709185 -0.612318   \n",
       "11637471 Interval_944  -0.118795  0.001757  1.271712 -0.033737 -0.522634   \n",
       "11642554 Interval_867  -0.319847 -0.829620 -0.101699 -0.394378 -0.763501   \n",
       "\n",
       "                         h24_max   h72_avg    diff_2    diff_3    diff_5  \\\n",
       "House ID                                                                   \n",
       "11650698 Interval_363   0.653146 -0.077920 -0.072839  0.009842 -0.003572   \n",
       "11639403 Interval_2440  0.162190  0.925085 -0.189953 -0.005106 -0.003658   \n",
       "11640980 Interval_2854 -0.975479 -0.741140 -0.202079 -0.004489 -0.003657   \n",
       "11637471 Interval_944   0.010646 -0.457655 -0.211778 -0.004229 -0.003657   \n",
       "11642554 Interval_867  -0.985439 -0.074867 -0.065979 -0.019356 -0.003753   \n",
       "\n",
       "                        label_true  label_pred  label_prob  \n",
       "House ID                                                    \n",
       "11650698 Interval_363          0.0         0.0    0.025503  \n",
       "11639403 Interval_2440         0.0         0.0    0.003878  \n",
       "11640980 Interval_2854         0.0         0.0    0.019846  \n",
       "11637471 Interval_944          0.0         0.0    0.020542  \n",
       "11642554 Interval_867          0.0         0.0    0.027996  "
      ]
     },
     "execution_count": 9,
     "metadata": {},
     "output_type": "execute_result"
    }
   ],
   "source": [
    "# Evaluate Model\n",
    "# Join Confusion matrix with other data\n",
    "\n",
    "results = X_test.join(y_test.rename('label_true'))\n",
    "results.head()\n",
    "\n",
    "# Predict bool classification\n",
    "y_pred = logreg.predict(X_test)\n",
    "y_pred = pd.DataFrame(y_pred, \n",
    "                      index=X_test.index, \n",
    "                      columns=['label_pred'])\n",
    "\n",
    "# Probability for each testing classification\n",
    "probs = logreg.predict_proba(X_test)[:,1]\n",
    "probs = pd.DataFrame(probs, \n",
    "                     index=X_test.index, \n",
    "                     columns=['label_prob'])\n",
    "\n",
    "\n",
    "results = results.join(y_pred)\n",
    "results = results.join(probs)\n",
    "results.head()"
   ]
  },
  {
   "cell_type": "code",
   "execution_count": 72,
   "metadata": {},
   "outputs": [
    {
     "name": "stdout",
     "output_type": "stream",
     "text": [
      "AUC Score: 0.925\n",
      "Average Precision Score: 0.624\n"
     ]
    }
   ],
   "source": [
    "from sklearn.metrics import roc_auc_score, roc_curve, precision_recall_curve, average_precision_score\n",
    "y_true = results['label_true']\n",
    "y_scores = results['label_prob']\n",
    "\n",
    "# ROC\n",
    "auc = roc_auc_score(y_true, y_scores)\n",
    "print(\"AUC Score: {:.3f}\".format(auc))\n",
    "fpr, tpr, thresholds_roc = roc_curve(y_true, y_scores)\n",
    "\n",
    "# Precision-Recall (PR) Curve\n",
    "ap = average_precision_score(y_true, y_scores)  \n",
    "print(\"Average Precision Score: {:.3f}\".format(ap))\n",
    "p, r, thresholds_pr = precision_recall_curve(y_true, y_scores)\n",
    "\n"
   ]
  },
  {
   "cell_type": "code",
   "execution_count": 73,
   "metadata": {},
   "outputs": [
    {
     "data": {
      "image/png": "[encoded data removed]",
      "text/plain": [
       "<Figure size 432x288 with 1 Axes>"
      ]
     },
     "metadata": {
      "needs_background": "light"
     },
     "output_type": "display_data"
    }
   ],
   "source": [
    "sns.scatterplot(x=fpr, y=tpr, markers='.')\n",
    "sns.lineplot(x=[0,1], y=[0,1])\n",
    "plt.xlabel('False Positive Rate')\n",
    "plt.ylabel('True Positive Rate')\n",
    "plt.title('Receiver Operating Characteristic (ROC) Curve')\n",
    "plt.show()"
   ]
  },
  {
   "cell_type": "code",
   "execution_count": 77,
   "metadata": {},
   "outputs": [
    {
     "data": {
      "text/plain": [
       "Text(0.5, 1.0, 'PR Curve')"
      ]
     },
     "execution_count": 77,
     "metadata": {},
     "output_type": "execute_result"
    },
    {
     "data": {
      "image/png": "[encoded data removed]",
      "text/plain": [
       "<Figure size 432x288 with 1 Axes>"
      ]
     },
     "metadata": {
      "needs_background": "light"
     },
     "output_type": "display_data"
    }
   ],
   "source": [
    "t = np.append(thresholds_pr, 1) \n",
    "if p.shape[0] != r.shape[0] != thresholds.shape[0]: \n",
    "    print(\"Error. Incorrect Shapes\")\n",
    "    print(p.shape[0], r.shape[0], t.shape[0])\n",
    "\n",
    "sns.scatterplot(t, p) \n",
    "sns.scatterplot(t, r)\n",
    "# sns.scatterplot(thresholds, queue_rate) \n",
    "leg = plt.legend(('precision', 'recall'), frameon=True) \n",
    "plt.xlabel('threshold') \n",
    "plt.ylabel('%')\n",
    "plt.title('PR Curve')"
   ]
  },
  {
   "cell_type": "code",
   "execution_count": null,
   "metadata": {},
   "outputs": [],
   "source": []
  }
 ],
 "metadata": {
  "kernelspec": {
   "display_name": "Python 3",
   "language": "python",
   "name": "python3"
  },
  "language_info": {
   "codemirror_mode": {
    "name": "ipython",
    "version": 3
   },
   "file_extension": ".py",
   "mimetype": "text/x-python",
   "name": "python",
   "nbconvert_exporter": "python",
   "pygments_lexer": "ipython3",
   "version": "3.7.3"
  }
 },
 "nbformat": 4,
 "nbformat_minor": 2
}
