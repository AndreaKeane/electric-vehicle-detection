{
 "cells": [
  {
   "cell_type": "code",
   "execution_count": 1,
   "metadata": {},
   "outputs": [],
   "source": [
    "# Setup\n",
    "import numpy as np\n",
    "import pandas as pd\n",
    "import warnings\n",
    "import utilities as utils\n",
    "\n",
    "from pathlib import Path\n",
    "from sklearn.preprocessing import StandardScaler\n",
    "from sklearn.model_selection import train_test_split \n",
    "from sklearn.linear_model import LogisticRegression\n",
    "\n",
    "# Ignore deprecation warnings\n",
    "warnings.simplefilter(action='ignore', category=FutureWarning)"
   ]
  },
  {
   "cell_type": "code",
   "execution_count": 3,
   "metadata": {},
   "outputs": [],
   "source": [
    "pickle_path = Path('/Users/andreakeane/Documents/DataScience/GridCure_Problems/pickles/')\n",
    "# test = pd.read_pickle(pickle_path / \"test.pkl\")\n",
    "# train = pd.read_pickle(pickle_path / \"train.pkl\")\n",
    "labels = pd.read_pickle(pickle_path / \"labels.pkl\")\n"
   ]
  },
  {
   "cell_type": "code",
   "execution_count": 4,
   "metadata": {},
   "outputs": [],
   "source": [
    "X = pd.read_pickle(pickle_path / \"X_all.pkl\")\n",
    "y = pd.read_pickle(pickle_path / \"y_all.pkl\")\n",
    "\n",
    "if X.shape[0] != y.shape[0]: \n",
    "    # TODO: Raise Error\n",
    "    print(\"ERROR. Dataframe shapes don't match.\")\n",
    "    print(\"X Rows: {}\".format(X.shape))\n",
    "    print(\"y Rows: {}\".format(y.shape))"
   ]
  },
  {
   "cell_type": "code",
   "execution_count": 5,
   "metadata": {},
   "outputs": [
    {
     "name": "stdout",
     "output_type": "stream",
     "text": [
      "1105 Houses without EVs\n",
      "Features:\n",
      "\tvalue\n",
      "\tdiff\n",
      "\th8_avg\n",
      "\th24_avg\n",
      "\th24_min\n",
      "\th24_max\n",
      "\th72_avg\n"
     ]
    }
   ],
   "source": [
    "# TEST: Removing houses without EVs\n",
    "\n",
    "houses_woEV = utils.get_pickle(pickle_path / \"houses_woEV.pkl\")\n",
    "print(\"{} Houses without EVs\".format(len(houses_woEV)))\n",
    "\n",
    "y = y.drop(houses_woEV, errors='ignore')\n",
    "X = X.drop(houses_woEV, errors='ignore')\n",
    "\n",
    "print(\"Features:\")\n",
    "for feature in X.columns.tolist(): \n",
    "    print(\"\\t\" + feature)"
   ]
  },
  {
   "cell_type": "code",
   "execution_count": 6,
   "metadata": {},
   "outputs": [],
   "source": [
    "# Try different sets of features\n",
    "# ['value', 'diff', 'h8_avg', 'h24_avg', 'h24_min', 'h24_max', 'h72_avg']\n",
    "\n",
    "X0 = X[['value', 'diff', 'h24_avg', 'h72_avg']]\n",
    "X1 = X[['diff', 'h24_avg', 'h72_avg']]\n",
    "X2 = X[['value', 'h24_avg', 'h72_avg']]\n",
    "X3 = X[['value', 'diff', 'h72_avg']]\n",
    "X4 = X[['value', 'diff', 'h24_avg']]\n",
    "X5 = X[['value']]\n",
    "X6 = X[['diff']]\n",
    "X7 = X[['diff', 'h72_avg']]\n",
    "\n",
    "X8 = X[['value', 'h8_avg', 'h24_avg', 'h72_avg']]\n",
    "X9 = X[['value', 'diff', 'h24_min', 'h24_max']]\n",
    "X10 = X[['value', 'h24_min', 'h24_max']]\n",
    "X11 = X[['value', 'diff', 'h8_avg']]\n",
    "\n",
    "\n",
    "cases = [X, X0, X1, X2, X3, X4, X5, X6, X7, X8, X9, X10, X11]"
   ]
  },
  {
   "cell_type": "code",
   "execution_count": 7,
   "metadata": {},
   "outputs": [],
   "source": [
    "# Test features\n",
    "scores = pd.DataFrame()\n",
    "for i, X_case in enumerate(cases):\n",
    "    \n",
    "    # Scale X-data between -1 and 1\n",
    "    scaler = StandardScaler().fit(X_case)                                    \n",
    "    X_scaled = pd.DataFrame(scaler.transform(X_case), \n",
    "                            index=X_case.index, \n",
    "                            columns=X_case.columns)\n",
    "\n",
    "    # Split data into training and testing\n",
    "    X_train, X_test, y_train, y_test = train_test_split(X_scaled, y, random_state=0)\n",
    "\n",
    "    # Train logistic regression model\n",
    "    logreg = LogisticRegression(solver='liblinear', random_state=0)\n",
    "    logreg.fit(X_train, y_train)\n",
    "    scores = scores.append({'score': logreg.score(X_test, y_test), \n",
    "                           'cols': X_case.columns.tolist()}, \n",
    "                           ignore_index=True)\n",
    "    \n",
    "scores\n"
   ]
  },
  {
   "cell_type": "code",
   "execution_count": 2,
   "metadata": {},
   "outputs": [
    {
     "ename": "NameError",
     "evalue": "name 'scores' is not defined",
     "output_type": "error",
     "traceback": [
      "\u001b[0;31m---------------------------------------------------------------------------\u001b[0m",
      "\u001b[0;31mNameError\u001b[0m                                 Traceback (most recent call last)",
      "\u001b[0;32m<ipython-input-2-7c9504a748dc>\u001b[0m in \u001b[0;36m<module>\u001b[0;34m\u001b[0m\n\u001b[0;32m----> 1\u001b[0;31m \u001b[0mscores\u001b[0m\u001b[0;34m.\u001b[0m\u001b[0msort\u001b[0m\u001b[0;34m(\u001b[0m\u001b[0mcolumns\u001b[0m\u001b[0;34m=\u001b[0m\u001b[0;34m'score'\u001b[0m\u001b[0;34m,\u001b[0m \u001b[0mascending\u001b[0m\u001b[0;34m=\u001b[0m\u001b[0;32mFalse\u001b[0m\u001b[0;34m)\u001b[0m\u001b[0;34m\u001b[0m\u001b[0;34m\u001b[0m\u001b[0m\n\u001b[0m",
      "\u001b[0;31mNameError\u001b[0m: name 'scores' is not defined"
     ]
    }
   ],
   "source": [
    "scores.sort(columns='score', ascending=False)"
   ]
  },
  {
   "cell_type": "code",
   "execution_count": null,
   "metadata": {},
   "outputs": [],
   "source": []
  },
  {
   "cell_type": "code",
   "execution_count": null,
   "metadata": {},
   "outputs": [],
   "source": []
  }
 ],
 "metadata": {
  "kernelspec": {
   "display_name": "Python 3",
   "language": "python",
   "name": "python3"
  },
  "language_info": {
   "codemirror_mode": {
    "name": "ipython",
    "version": 3
   },
   "file_extension": ".py",
   "mimetype": "text/x-python",
   "name": "python",
   "nbconvert_exporter": "python",
   "pygments_lexer": "ipython3",
   "version": "3.7.3"
  }
 },
 "nbformat": 4,
 "nbformat_minor": 2
}
