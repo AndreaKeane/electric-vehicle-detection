{
 "cells": [
  {
   "cell_type": "code",
   "execution_count": 1,
   "metadata": {},
   "outputs": [],
   "source": [
    "# Setup\n",
    "%load_ext autoreload\n",
    "%autoreload 2\n",
    "import matplotlib.pyplot as plt\n",
    "import numpy as np\n",
    "import pandas as pd\n",
    "import seaborn as sns\n",
    "import warnings\n",
    "from pathlib import Path\n",
    "\n",
    "# Import custom methods\n",
    "import sys\n",
    "sys.path.append(\"../\") # go to parent dir\n",
    "from utilities import utilities as utils\n",
    "\n",
    "# Ignore deprecation warnings\n",
    "warnings.simplefilter(action='ignore', category=FutureWarning)"
   ]
  },
  {
   "cell_type": "code",
   "execution_count": 2,
   "metadata": {},
   "outputs": [],
   "source": [
    "# Setup Paths\n",
    "pickle_path = Path('/Users/andreakeane/Documents/DataScience/GridCure_Problems/pickles/')\n",
    "fig_path = Path('/Users/andreakeane/Documents/DataScience/GridCure_Problems/figures/')\n",
    "\n",
    "# Read in Data\n",
    "features_a = pd.read_pickle(pickle_path / \"features_a.pkl\")\n",
    "X = features_a.drop(['label', 'tot_chrgs'], axis=1)\n",
    "y = features_a[['label']]\n",
    "\n",
    "# Split data\n",
    "# Same features and splits used for all models\n",
    "X_train, X_test, y_train, y_test = utils.scale_split_data(X, y)"
   ]
  },
  {
   "cell_type": "markdown",
   "metadata": {},
   "source": [
    "## Testing Models\n",
    "Briefly compare the performance of several binary classification models.   \n",
    "• All models use the same Train/Test data split (above)  \n",
    "• All models use thei default parameters, initialized with random_state=0  \n",
    "\n",
    "Comparing the following Models:  \n",
    "• Logistic Regression (LR)  \n",
    "• Support Vector Machine (SVM)  \n",
    "• Neural Network (NN)  \n",
    "• Random Forest (RF)  \n",
    "• K-Nearest Neighbors (KNN)"
   ]
  },
  {
   "cell_type": "code",
   "execution_count": 15,
   "metadata": {},
   "outputs": [],
   "source": [
    "# Logistic Regression \n",
    "from sklearn.linear_model import LogisticRegression\n",
    "LR = LogisticRegression(random_state=0).fit(X_train, np.ravel(y_train))  \n",
    "lr_score = LR.score(X_test,y_test)"
   ]
  },
  {
   "cell_type": "code",
   "execution_count": 16,
   "metadata": {},
   "outputs": [
    {
     "name": "stderr",
     "output_type": "stream",
     "text": [
      "/usr/local/lib/python3.7/site-packages/sklearn/svm/base.py:929: ConvergenceWarning: Liblinear failed to converge, increase the number of iterations.\n",
      "  \"the number of iterations.\", ConvergenceWarning)\n"
     ]
    }
   ],
   "source": [
    "# SVM\n",
    "from sklearn import svm\n",
    "SVM = svm.LinearSVC(random_state=0).fit(X_train, np.ravel(y_train))  \n",
    "svm_score = SVM.score(X_test,y_test)"
   ]
  },
  {
   "cell_type": "code",
   "execution_count": 17,
   "metadata": {},
   "outputs": [
    {
     "name": "stderr",
     "output_type": "stream",
     "text": [
      "/usr/local/lib/python3.7/site-packages/sklearn/neural_network/multilayer_perceptron.py:566: ConvergenceWarning: Stochastic Optimizer: Maximum iterations (200) reached and the optimization hasn't converged yet.\n",
      "  % self.max_iter, ConvergenceWarning)\n"
     ]
    }
   ],
   "source": [
    "# Neural Network\n",
    "from sklearn.neural_network import MLPClassifier \n",
    "NN = MLPClassifier(random_state=0).fit(X_train, np.ravel(y_train))  \n",
    "nn_score = NN.score(X_test, y_test)"
   ]
  },
  {
   "cell_type": "code",
   "execution_count": 18,
   "metadata": {},
   "outputs": [],
   "source": [
    "# Random Forest\n",
    "from sklearn.ensemble import RandomForestClassifier\n",
    "RF = RandomForestClassifier(random_state=0).fit(X_train, np.ravel(y_train))  \n",
    "rf_score = RF.score(X_test,y_test)"
   ]
  },
  {
   "cell_type": "code",
   "execution_count": 19,
   "metadata": {},
   "outputs": [],
   "source": [
    "# KNN\n",
    "from sklearn.neighbors import KNeighborsClassifier\n",
    "neigh = KNeighborsClassifier().fit(X_train, np.ravel(y_train)) \n",
    "knn_score = neigh.score(X_test,y_test)"
   ]
  },
  {
   "cell_type": "code",
   "execution_count": 8,
   "metadata": {},
   "outputs": [
    {
     "name": "stdout",
     "output_type": "stream",
     "text": [
      "Logistic Regression Score: 0.843\n",
      "SVM Score: 0.843\n",
      "Neural Network Score: 0.866\n",
      "Random Forest Score: 0.807\n",
      "K-Nearest Neighbors Score: 0.835\n",
      "\n"
     ]
    }
   ],
   "source": [
    "print(\n",
    "    \"Logistic Regression Score: {:.3f}\\n\"\n",
    "    \"SVM Score: {:.3f}\\n\"\n",
    "    \"Neural Network Score: {:.3f}\\n\"\n",
    "    \"Random Forest Score: {:.3f}\\n\"\n",
    "    \"K-Nearest Neighbors Score: {:.3f}\\n\".format(lr_score, svm_score, nn_score, rf_score, knn_score)\n",
    ")\n"
   ]
  },
  {
   "cell_type": "markdown",
   "metadata": {},
   "source": [
    "**Try a few other models**  \n",
    "Based on Kaggle article reccomendation  \n",
    "https://www.kaggle.com/klaudiajankowska/binary-classification-methods-comparison  \n",
    "• Linear Discriminant Analysis  \n",
    "• Quadratic Discriminant Analysis  \n",
    "• Gaussian Naive Bayes  \n",
    "\n",
    "I negelcted to include these models in the report because (a) I don't have enough understanding to effectively evaluate their performance and (b) none of them performed well enough to justify using these models over the ones above. "
   ]
  },
  {
   "cell_type": "code",
   "execution_count": 9,
   "metadata": {},
   "outputs": [
    {
     "name": "stdout",
     "output_type": "stream",
     "text": [
      "LDA Score: 0.830\n"
     ]
    }
   ],
   "source": [
    "from sklearn.discriminant_analysis import LinearDiscriminantAnalysis\n",
    "clf = LinearDiscriminantAnalysis().fit(X_train, np.ravel(y_train))\n",
    "print(\"LDA Score: {:.3f}\".format(clf.score(X_test, y_test)))"
   ]
  },
  {
   "cell_type": "code",
   "execution_count": 10,
   "metadata": {},
   "outputs": [
    {
     "name": "stdout",
     "output_type": "stream",
     "text": [
      "QDA Score: 0.540\n"
     ]
    }
   ],
   "source": [
    "from sklearn.discriminant_analysis import QuadraticDiscriminantAnalysis\n",
    "clf = QuadraticDiscriminantAnalysis().fit(X_train, np.ravel(y_train))\n",
    "print(\"QDA Score: {:.3f}\".format(clf.score(X_test, y_test)))"
   ]
  },
  {
   "cell_type": "code",
   "execution_count": 11,
   "metadata": {},
   "outputs": [
    {
     "name": "stdout",
     "output_type": "stream",
     "text": [
      "Gaussian NB Score: 0.350\n"
     ]
    }
   ],
   "source": [
    "from sklearn.naive_bayes import GaussianNB\n",
    "gnb = GaussianNB().fit(X_train, np.ravel(y_train))\n",
    "print(\"Gaussian NB Score: {:.3f}\".format(gnb.score(X_test, y_test)))"
   ]
  }
 ],
 "metadata": {
  "kernelspec": {
   "display_name": "Python 3",
   "language": "python",
   "name": "python3"
  },
  "language_info": {
   "codemirror_mode": {
    "name": "ipython",
    "version": 3
   },
   "file_extension": ".py",
   "mimetype": "text/x-python",
   "name": "python",
   "nbconvert_exporter": "python",
   "pygments_lexer": "ipython3",
   "version": "3.7.3"
  }
 },
 "nbformat": 4,
 "nbformat_minor": 2
}
