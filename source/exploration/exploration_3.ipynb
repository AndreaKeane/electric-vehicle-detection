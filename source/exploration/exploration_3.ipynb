{
 "cells": [
  {
   "cell_type": "code",
   "execution_count": 1,
   "metadata": {},
   "outputs": [],
   "source": [
    "# Setup\n",
    "import matplotlib.pyplot as plt\n",
    "import numpy as np\n",
    "import pandas as pd\n",
    "import random\n",
    "import time\n",
    "import warnings\n",
    "\n",
    "# Import custom methods\n",
    "import sys\n",
    "sys.path.append(\"../\") # go to parent dir\n",
    "from utilities import utilities as utils\n",
    "\n",
    "from pathlib import Path\n",
    "from sklearn.preprocessing import StandardScaler\n",
    "from sklearn.model_selection import train_test_split \n",
    "from sklearn.linear_model import LogisticRegression\n",
    "\n",
    "warnings.simplefilter(action='ignore', category=FutureWarning)"
   ]
  },
  {
   "cell_type": "code",
   "execution_count": 2,
   "metadata": {},
   "outputs": [],
   "source": [
    "pickle_path = Path('../../pickles')\n",
    "test = pd.read_pickle(pickle_path / \"test.pkl\")\n",
    "train = pd.read_pickle(pickle_path / \"train.pkl\")\n",
    "labels = pd.read_pickle(pickle_path / \"labels.pkl\")\n"
   ]
  },
  {
   "cell_type": "code",
   "execution_count": 34,
   "metadata": {},
   "outputs": [],
   "source": [
    "X = pd.read_pickle(pickle_path / \"X_all.pkl\")\n",
    "y = pd.read_pickle(pickle_path / \"y_all.pkl\")\n",
    "\n",
    "if X.shape[0] != y.shape[0]: \n",
    "    # TODO: Raise Error\n",
    "    print(\"ERROR. Dataframe shapes don't match.\")\n",
    "    print(\"X Rows: {}\".format(X.shape))\n",
    "    print(\"y Rows: {}\".format(y.shape))"
   ]
  },
  {
   "cell_type": "code",
   "execution_count": 77,
   "metadata": {},
   "outputs": [
    {
     "name": "stdout",
     "output_type": "stream",
     "text": [
      "Accuracy of classifier on test set: 0.977\n"
     ]
    }
   ],
   "source": [
    "# Scale X-data between -1 and 1\n",
    "scaler = StandardScaler().fit(X)                                    \n",
    "X_scaled = pd.DataFrame(scaler.transform(X), \n",
    "                        index=X.index, \n",
    "                        columns=X.columns)\n",
    "\n",
    "# Split data into training and testing\n",
    "X_train, X_test, y_train, y_test = train_test_split(X_scaled, y, random_state=0)\n",
    "\n",
    "# Train logistic regression model\n",
    "logreg = LogisticRegression(solver='liblinear', random_state=0)\n",
    "logreg.fit(X_train, y_train)\n",
    "print('Accuracy of classifier on test set: {:.3f}'.format(logreg.score(X_test, y_test)))\n"
   ]
  },
  {
   "cell_type": "code",
   "execution_count": 86,
   "metadata": {},
   "outputs": [
    {
     "data": {
      "text/html": [
       "<div>\n",
       "<style scoped>\n",
       "    .dataframe tbody tr th:only-of-type {\n",
       "        vertical-align: middle;\n",
       "    }\n",
       "\n",
       "    .dataframe tbody tr th {\n",
       "        vertical-align: top;\n",
       "    }\n",
       "\n",
       "    .dataframe thead th {\n",
       "        text-align: right;\n",
       "    }\n",
       "</style>\n",
       "<table border=\"1\" class=\"dataframe\">\n",
       "  <thead>\n",
       "    <tr style=\"text-align: right;\">\n",
       "      <th></th>\n",
       "      <th></th>\n",
       "      <th>value</th>\n",
       "      <th>diff</th>\n",
       "      <th>h24_avg</th>\n",
       "      <th>h72_avg</th>\n",
       "      <th>label_true</th>\n",
       "      <th>label_pred</th>\n",
       "      <th>label_prob</th>\n",
       "    </tr>\n",
       "    <tr>\n",
       "      <th>House ID</th>\n",
       "      <th></th>\n",
       "      <th></th>\n",
       "      <th></th>\n",
       "      <th></th>\n",
       "      <th></th>\n",
       "      <th></th>\n",
       "      <th></th>\n",
       "      <th></th>\n",
       "    </tr>\n",
       "  </thead>\n",
       "  <tbody>\n",
       "    <tr>\n",
       "      <th>11633733</th>\n",
       "      <th>Interval_1075</th>\n",
       "      <td>1.352330</td>\n",
       "      <td>1.664168</td>\n",
       "      <td>1.256962</td>\n",
       "      <td>1.096586</td>\n",
       "      <td>0.0</td>\n",
       "      <td>0.0</td>\n",
       "      <td>0.006449</td>\n",
       "    </tr>\n",
       "    <tr>\n",
       "      <th>11636379</th>\n",
       "      <th>Interval_265</th>\n",
       "      <td>-0.439749</td>\n",
       "      <td>-0.015719</td>\n",
       "      <td>-0.122096</td>\n",
       "      <td>-0.557148</td>\n",
       "      <td>0.0</td>\n",
       "      <td>0.0</td>\n",
       "      <td>0.007096</td>\n",
       "    </tr>\n",
       "    <tr>\n",
       "      <th>11653142</th>\n",
       "      <th>Interval_1488</th>\n",
       "      <td>-0.772596</td>\n",
       "      <td>0.000092</td>\n",
       "      <td>-0.160336</td>\n",
       "      <td>0.056551</td>\n",
       "      <td>0.0</td>\n",
       "      <td>0.0</td>\n",
       "      <td>0.002139</td>\n",
       "    </tr>\n",
       "    <tr>\n",
       "      <th>11631582</th>\n",
       "      <th>Interval_2137</th>\n",
       "      <td>-0.319470</td>\n",
       "      <td>0.029737</td>\n",
       "      <td>-0.270404</td>\n",
       "      <td>-0.211978</td>\n",
       "      <td>0.0</td>\n",
       "      <td>0.0</td>\n",
       "      <td>0.007711</td>\n",
       "    </tr>\n",
       "    <tr>\n",
       "      <th>11655055</th>\n",
       "      <th>Interval_1992</th>\n",
       "      <td>0.112475</td>\n",
       "      <td>-0.033506</td>\n",
       "      <td>-0.328146</td>\n",
       "      <td>-0.301984</td>\n",
       "      <td>0.0</td>\n",
       "      <td>0.0</td>\n",
       "      <td>0.020876</td>\n",
       "    </tr>\n",
       "  </tbody>\n",
       "</table>\n",
       "</div>"
      ],
      "text/plain": [
       "                           value      diff   h24_avg   h72_avg  label_true  \\\n",
       "House ID                                                                     \n",
       "11633733 Interval_1075  1.352330  1.664168  1.256962  1.096586         0.0   \n",
       "11636379 Interval_265  -0.439749 -0.015719 -0.122096 -0.557148         0.0   \n",
       "11653142 Interval_1488 -0.772596  0.000092 -0.160336  0.056551         0.0   \n",
       "11631582 Interval_2137 -0.319470  0.029737 -0.270404 -0.211978         0.0   \n",
       "11655055 Interval_1992  0.112475 -0.033506 -0.328146 -0.301984         0.0   \n",
       "\n",
       "                        label_pred  label_prob  \n",
       "House ID                                        \n",
       "11633733 Interval_1075         0.0    0.006449  \n",
       "11636379 Interval_265          0.0    0.007096  \n",
       "11653142 Interval_1488         0.0    0.002139  \n",
       "11631582 Interval_2137         0.0    0.007711  \n",
       "11655055 Interval_1992         0.0    0.020876  "
      ]
     },
     "execution_count": 86,
     "metadata": {},
     "output_type": "execute_result"
    }
   ],
   "source": [
    "# Prepare df's for joining\n",
    "# Join df's\n",
    "results = X_test.join(y_test.rename('label_true'))\n",
    "results.head()\n",
    "\n",
    "# Predict bool classification\n",
    "y_pred = logreg.predict(X_test)\n",
    "y_pred = pd.DataFrame(y_pred, \n",
    "                      index=X_test.index, \n",
    "                      columns=['label_pred'])\n",
    "\n",
    "# Probability for each testing classification\n",
    "probs = logreg.predict_proba(X_test)[:,1]\n",
    "probs = pd.DataFrame(probs, \n",
    "                     index=X_test.index, \n",
    "                     columns=['label_prob'])\n",
    "\n",
    "\n",
    "results = results.join(y_pred)\n",
    "results = results.join(probs)\n",
    "results.head()\n"
   ]
  },
  {
   "cell_type": "code",
   "execution_count": 87,
   "metadata": {},
   "outputs": [
    {
     "name": "stdout",
     "output_type": "stream",
     "text": [
      "20.7% Incorrect Classifications\n"
     ]
    }
   ],
   "source": [
    "# Evaluation\n",
    "# True Values\n",
    "labels_mod = results['label_true'].unstack()\n",
    "labels_mod = pd.DataFrame(labels_mod.sum(axis=1), columns=['sum'])\n",
    "labels_mod['bool'] = labels_mod['sum'].where(labels_mod['sum'] == 0, other=1)\n",
    "\n",
    "# Predicted Values\n",
    "predict = results['label_pred'].unstack()\n",
    "predict = pd.DataFrame(predict.sum(axis=1), columns=['sum_pred'])\n",
    "predict['bool_pred'] = predict['sum_pred'].where(predict['sum_pred'] == 0, other=1)\n",
    "\n",
    "df = predict.join(labels_mod)\n",
    "df['correctness'] = np.where(df['bool'] == df['bool_pred'], True, False)\n",
    "df.head(n=20)\n",
    "\n",
    "# Per-House classification correctness\n",
    "vc = df['correctness'].value_counts(sort=True)\n",
    "print(\"{:.1f}% Incorrect Classifications\".format(100 * vc[0]/(vc[1] + vc[0])))\n"
   ]
  },
  {
   "cell_type": "code",
   "execution_count": null,
   "metadata": {},
   "outputs": [],
   "source": []
  },
  {
   "cell_type": "code",
   "execution_count": null,
   "metadata": {},
   "outputs": [],
   "source": []
  }
 ],
 "metadata": {
  "kernelspec": {
   "display_name": "Python 3",
   "language": "python",
   "name": "python3"
  },
  "language_info": {
   "codemirror_mode": {
    "name": "ipython",
    "version": 3
   },
   "file_extension": ".py",
   "mimetype": "text/x-python",
   "name": "python",
   "nbconvert_exporter": "python",
   "pygments_lexer": "ipython3",
   "version": "3.7.3"
  }
 },
 "nbformat": 4,
 "nbformat_minor": 2
}
