{
 "cells": [
  {
   "cell_type": "markdown",
   "metadata": {},
   "source": [
    "# GridCure Application Problem\n",
    "## Initial Exploration"
   ]
  },
  {
   "cell_type": "markdown",
   "metadata": {},
   "source": [
    "## Electric Vehicle Detection\n",
    "\n",
    "The training set contains two months of smart meter power readings from 1590 houses.  The readings were taken at half-hour intervals.  Some of the homes have electric vehicles and some do not.   The file  \"EV_train_labels.csv\" indicates the time intervals on which an electric vehicle was charging (1 indicates a vehicle was charging at some point during the interval and 0 indicates no vehicle was charging at any point during the interval).  Can you determine:\n",
    "\n",
    "A.\tWhich residences have electric vehicles?  \n",
    "B.\tWhen the electric vehicles were charging?  \n",
    "C.\tAny other interesting aspects of the dataset?  \n",
    "\n",
    "A solution to part B might consist of a prediction of the probability that an electric car was charging for each house and time interval in the test set.  Please include code and explain your reasoning.  What do you expect the accuracy of your predictions to be?\n"
   ]
  },
  {
   "cell_type": "code",
   "execution_count": 1,
   "metadata": {},
   "outputs": [],
   "source": [
    "# File Setup\n",
    "from pathlib import Path\n",
    "import pandas as pd\n"
   ]
  },
  {
   "cell_type": "code",
   "execution_count": 2,
   "metadata": {},
   "outputs": [],
   "source": [
    "data_folder = Path('../../EV_files')\n",
    "\n",
    "# Test Data\n",
    "file_evtest = data_folder / \"EV_test.csv\"\n",
    "test = pd.read_csv(file_evtest, index_col='House ID')\n",
    "\n",
    "# Train Data\n",
    "file_evtrain = data_folder / \"EV_train.csv\"\n",
    "train = pd.read_csv(file_evtrain, index_col='House ID')\n",
    "\n",
    "# Train Labels\n",
    "file_evlabels = data_folder / \"EV_train_labels.csv\"\n",
    "labels = pd.read_csv(file_evlabels, index_col='House ID')\n"
   ]
  },
  {
   "cell_type": "code",
   "execution_count": 3,
   "metadata": {},
   "outputs": [
    {
     "name": "stdout",
     "output_type": "stream",
     "text": [
      "Data Frame Shapes\n",
      "Test: (699, 2880)\n",
      "Train: (1590, 2880)\n",
      "Labels: (1590, 2880)\n"
     ]
    }
   ],
   "source": [
    "print(\"Data Frame Shapes\")\n",
    "print(\"Test: {}\".format(test.shape))\n",
    "print(\"Train: {}\".format(train.shape))\n",
    "print(\"Labels: {}\".format(labels.shape))"
   ]
  },
  {
   "cell_type": "markdown",
   "metadata": {},
   "source": [
    "## A. Which Residences have electric vehicles?"
   ]
  },
  {
   "cell_type": "code",
   "execution_count": 11,
   "metadata": {},
   "outputs": [
    {
     "name": "stdout",
     "output_type": "stream",
     "text": [
      "          sum   bool\n",
      "House ID            \n",
      "11655099    0  False\n",
      "11633257    0  False\n",
      "11651552    0  False\n",
      "11636092    0  False\n",
      "11647239  117   True\n"
     ]
    }
   ],
   "source": [
    "# The file  \"EV_train_labels.csv\" indicates the time intervals on which an electric vehicle was charging\n",
    "\n",
    "# Sum across labels df to determine how many times each house charged an electric car\n",
    "df_a = pd.DataFrame(labels.sum(axis=1))\n",
    "df_a.rename(columns= {0: 'sum'}, inplace=True)\n",
    "\n",
    "# Map the sums to Booleans\n",
    "# True - Electric car was charged one or more times at the given house\n",
    "# False - No electic cars charged at the \n",
    "df_a['bool'] = df_a['sum'].where(df_a['sum'] == 0, other=1)\n",
    "df_a['bool'].replace({0:False, 1:True}, inplace=True)\n",
    "\n",
    "print(df_a.head())"
   ]
  },
  {
   "cell_type": "code",
   "execution_count": 12,
   "metadata": {},
   "outputs": [
    {
     "name": "stdout",
     "output_type": "stream",
     "text": [
      "Summary Stats for all Households\n",
      "Min Charges: 0 (Should be 0 to account for houses without E-Cars.)\n",
      "Max Charges: 685\n",
      "\n",
      "69.5% of houses do not charge E-Cars.\n",
      "30.5% of houses do charge E-Cars.\n"
     ]
    }
   ],
   "source": [
    "# Simple Data Summary\n",
    "print(\"Summary Stats for all Households\")\n",
    "print(\"Min Charges: {} (Should be 0 to account for houses without E-Cars.)\".format(df_a['sum'].min()))\n",
    "print(\"Max Charges: {}\\n\".format(df_a['sum'].max()))\n",
    "\n",
    "counts = df_a['bool'].value_counts(sort=True)\n",
    "tot = df_a.shape[0]\n",
    "# print(counts)\n",
    "\n",
    "print(\"{0:.1f}% of houses do not charge E-Cars.\".format(counts[False]/tot*100))\n",
    "print(\"{0:.1f}% of houses do charge E-Cars.\".format(counts[True]/tot*100))"
   ]
  },
  {
   "cell_type": "code",
   "execution_count": 13,
   "metadata": {},
   "outputs": [
    {
     "name": "stdout",
     "output_type": "stream",
     "text": [
      "Summary Stats for E-Car Households\n",
      "485 Houses charge E-Cars\n",
      "Min Charges: 71\n",
      "Max Charges: 685\n",
      "Average Charges: 220\n"
     ]
    }
   ],
   "source": [
    "# Non-Zero Summary Statistics\n",
    "df_aT = df_a.loc[df_a['bool'] == True]\n",
    "# print(df_aT.shape)\n",
    "# print(df_aT.head())\n",
    "desc = df_aT['sum'].describe()\n",
    "print(\"Summary Stats for E-Car Households\")\n",
    "print(\"{0:.0f} Houses charge E-Cars\".format(desc['count']))\n",
    "print(\"Min Charges: {0:.0f}\".format(desc['min']))\n",
    "print(\"Max Charges: {0:.0f}\".format(desc['max']))\n",
    "print(\"Average Charges: {0:.0f}\".format(desc['mean']))\n"
   ]
  },
  {
   "cell_type": "code",
   "execution_count": 14,
   "metadata": {},
   "outputs": [
    {
     "data": {
      "image/png": "[encoded data removed]",
      "text/plain": [
       "<Figure size 432x288 with 1 Axes>"
      ]
     },
     "metadata": {
      "needs_background": "light"
     },
     "output_type": "display_data"
    }
   ],
   "source": [
    "# Distribution of Charges per Household\n",
    "import matplotlib.pyplot as plt\n",
    "\n",
    "ax = df_aT.plot(kind='hist', \n",
    "          by='sum', \n",
    "          bins=137, \n",
    "          ylim=[0,25],\n",
    "          legend=False)\n",
    "ax.set(\n",
    "    title='Total Charges per Household with E-Car',\n",
    "    xlabel=\"Number of Charges\", \n",
    "    ylabel=\"Number of Households\",\n",
    "    autoscalex_on=True)\n",
    "\n",
    "plt.show()"
   ]
  },
  {
   "cell_type": "code",
   "execution_count": 15,
   "metadata": {},
   "outputs": [],
   "source": [
    "# TODO: Appears to be a bimodal distribution, could analyze further"
   ]
  },
  {
   "cell_type": "markdown",
   "metadata": {},
   "source": [
    "### Build model to predict which household has E-Car\n",
    "Features: Meter Readings  \n",
    "Classification: E-Car, Boolean\n",
    "Supervised Binomial Classification\n",
    "\n",
    "After exploring: \n",
    "* Logistic Regression . \n",
    "* Random Forests . \n",
    "* K-Nearest Neighbors . \n",
    "\n",
    "Logistic regression and Random Forests can be tuned to equivalent performance. KNN does not perform well. "
   ]
  },
  {
   "cell_type": "code",
   "execution_count": 16,
   "metadata": {},
   "outputs": [],
   "source": [
    "import warnings\n",
    "warnings.simplefilter(action='ignore', category=FutureWarning)"
   ]
  },
  {
   "cell_type": "code",
   "execution_count": 30,
   "metadata": {},
   "outputs": [
    {
     "name": "stdout",
     "output_type": "stream",
     "text": [
      "4 Rows were dropped for NA reasons.\n",
      "(1586,) (1586, 2880)\n",
      "<class 'pandas.core.frame.DataFrame'>\n",
      "(1586, 2880)\n"
     ]
    }
   ],
   "source": [
    "# Split into features and classifications\n",
    "X = train.copy(deep=True)\n",
    "y = df_a['bool']\n",
    "\n",
    "from collections import namedtuple\n",
    "df_summary = namedtuple('df_summary', \n",
    "                        ['rows', 'cols', 'idx_list'])\n",
    "\n",
    "# Drop NA-containing rows from X\n",
    "before = df_summary(X.shape[0], X.shape[1], X.index.tolist())\n",
    "X = X.dropna()\n",
    "after = df_summary(X.shape[0], X.shape[1], X.index.tolist())\n",
    "print(\"{} Rows were dropped for NA reasons.\".format(before.rows - after.rows))\n",
    "\n",
    "# Drop corresponsing rows from y\n",
    "removed_idx = []\n",
    "for house_id in before.idx_list: \n",
    "    if house_id not in after.idx_list: \n",
    "        removed_idx.append(house_id)\n",
    "y = y.drop(index=removed_idx)\n",
    "\n",
    "# Quick validation\n",
    "print(y.shape, X.shape)"
   ]
  },
  {
   "cell_type": "code",
   "execution_count": 31,
   "metadata": {},
   "outputs": [
    {
     "name": "stdout",
     "output_type": "stream",
     "text": [
      "<class 'pandas.core.frame.DataFrame'>\n",
      "(1586, 2880)\n"
     ]
    }
   ],
   "source": [
    "print(type(X))\n",
    "print(X.shape)\n",
    "\n",
    "# Scale the features between -1 and 1\n",
    "from sklearn.preprocessing import StandardScaler\n",
    "scaler = StandardScaler().fit(X)                                    \n",
    "X_scaled = scaler.transform(X)\n"
   ]
  },
  {
   "cell_type": "code",
   "execution_count": 19,
   "metadata": {},
   "outputs": [
    {
     "name": "stdout",
     "output_type": "stream",
     "text": [
      "(1189, 2880) (397, 2880)\n",
      "(1189,) (397,)\n"
     ]
    }
   ],
   "source": [
    "# Split data into training and testing\n",
    "from sklearn.model_selection import train_test_split \n",
    "X_train, X_test, y_train, y_test = train_test_split(\n",
    "    X, \n",
    "    y,\n",
    "    random_state=0)\n",
    "\n",
    "print(X_train.shape, X_test.shape)\n",
    "print(y_train.shape, y_test.shape)\n"
   ]
  },
  {
   "cell_type": "code",
   "execution_count": 20,
   "metadata": {},
   "outputs": [
    {
     "name": "stdout",
     "output_type": "stream",
     "text": [
      "Accuracy of logistic regression classifier on test set: 0.83\n"
     ]
    },
    {
     "name": "stderr",
     "output_type": "stream",
     "text": [
      "/usr/local/lib/python3.7/site-packages/sklearn/linear_model/logistic.py:947: ConvergenceWarning: lbfgs failed to converge. Increase the number of iterations.\n",
      "  \"of iterations.\", ConvergenceWarning)\n"
     ]
    }
   ],
   "source": [
    "# Logistic Regression Model\n",
    "from sklearn.linear_model import LogisticRegression\n",
    "from sklearn import metrics\n",
    "\n",
    "# Solver = ‘newton-cg’, ‘lbfgs’, ‘liblinear’, ‘sag’, ‘saga’\n",
    "logreg = LogisticRegression(solver='lbfgs')\n",
    "logreg.fit(X_train, y_train)\n",
    "y_pred = logreg.predict(X_test)\n",
    "print('Accuracy of logistic regression classifier on test set: {:.2f}'.format(logreg.score(X_test, y_test)))"
   ]
  },
  {
   "cell_type": "code",
   "execution_count": 21,
   "metadata": {},
   "outputs": [
    {
     "name": "stdout",
     "output_type": "stream",
     "text": [
      "          score\n",
      "trees          \n",
      "2.0    0.677582\n",
      "10.0   0.798489\n",
      "20.0   0.795970\n",
      "50.0   0.818640\n",
      "100.0  0.818640\n"
     ]
    },
    {
     "data": {
      "image/png": "[encoded data removed]",
      "text/plain": [
       "<Figure size 432x288 with 1 Axes>"
      ]
     },
     "metadata": {
      "needs_background": "light"
     },
     "output_type": "display_data"
    }
   ],
   "source": [
    "# Random Forest\n",
    "from sklearn.ensemble import RandomForestClassifier\n",
    "\n",
    "df_test = pd.DataFrame(columns=['trees', 'score'])\n",
    "for n in [2, 10, 20, 50, 100]:\n",
    "    # Create a random forest Classifier. By convention, clf means 'Classifier'\n",
    "    clf = RandomForestClassifier(n_jobs=10, \n",
    "                                 max_depth=n,\n",
    "                                 min_samples_split=5,\n",
    "                                 max_features='log2',\n",
    "                                 random_state=0)\n",
    "\n",
    "    # Train the Classifier to take the training features and learn how they relate\n",
    "    # to the training y (the species)\n",
    "    clf.fit(X_train, y_train)\n",
    "\n",
    "    # Apply the Classifier we trained to the test data (which, remember, it has never seen before)\n",
    "    score = clf.score(X_test, y_test)\n",
    "    df_test = df_test.append({'trees':n, 'score':score}, ignore_index=True)\n",
    "\n",
    "df_test = df_test.set_index('trees')\n",
    "df_test.plot()\n",
    "\n",
    "print(df_test)"
   ]
  },
  {
   "cell_type": "code",
   "execution_count": 22,
   "metadata": {
    "scrolled": true
   },
   "outputs": [
    {
     "data": {
      "text/plain": [
       "<matplotlib.axes._subplots.AxesSubplot at 0x121208400>"
      ]
     },
     "execution_count": 22,
     "metadata": {},
     "output_type": "execute_result"
    },
    {
     "data": {
      "image/png": "[encoded data removed]",
      "text/plain": [
       "<Figure size 432x288 with 1 Axes>"
      ]
     },
     "metadata": {
      "needs_background": "light"
     },
     "output_type": "display_data"
    }
   ],
   "source": [
    "# KNN Model\n",
    "# Performance of the KNN is model very poor\n",
    "from sklearn.neighbors import KNeighborsRegressor\n",
    "\n",
    "df_test = pd.DataFrame(columns=['neigh', 'score'])\n",
    "for n in [1, 3, 5, 7, 9, 11, 13, 15]: \n",
    "    # Look at the n closest neighbors.\n",
    "    knn = KNeighborsRegressor(n_neighbors=n)\n",
    "    # Fit the model on the training data.\n",
    "    knn.fit(X_train, y_train)\n",
    "    # Make point predictions on the test set using the fit model.\n",
    "    # Returns the coefficient of determination R^2 of the prediction.\n",
    "    score = knn.score(X_test, y_test)\n",
    "    y_pred = knn.predict(X_test)\n",
    "    score = metrics.r2_score(y_test, y_pred)\n",
    "    # score = metrics.accuracy_score()\n",
    "    df_test = df_test.append({'neigh':n, 'score':score}, ignore_index=True)\n",
    "\n",
    "df_test = df_test.set_index('neigh')\n",
    "df_test.plot()"
   ]
  },
  {
   "cell_type": "markdown",
   "metadata": {},
   "source": [
    "### Testing feature engineering "
   ]
  },
  {
   "cell_type": "code",
   "execution_count": 23,
   "metadata": {},
   "outputs": [],
   "source": [
    "# Calculate the change in demand between each time point (d-use/d-time)\n",
    "train_diff = pd.DataFrame(index=train.index)\n",
    "cols = sorted(list(train.columns.values))\n",
    "\n",
    "for i, c2 in enumerate(cols): \n",
    "    if i == 0: pass # Skip the first element\n",
    "    c1 = cols[i-1]\n",
    "    train_diff[c2] = pd.DataFrame(abs(train[c2] - train[c1]))\n",
    "\n",
    "# print(train_diff.head())\n"
   ]
  },
  {
   "cell_type": "code",
   "execution_count": 24,
   "metadata": {},
   "outputs": [
    {
     "name": "stdout",
     "output_type": "stream",
     "text": [
      "               max       avg\n",
      "House ID                    \n",
      "11655099  2.170000  0.569631\n",
      "11633257  3.842000  0.667629\n",
      "11651552  4.788000  0.659690\n",
      "11636092  4.119000  1.397184\n",
      "11647239  6.993877  1.423121\n"
     ]
    }
   ],
   "source": [
    "\n",
    "train_eng = pd.DataFrame(index=train.index)\n",
    "# train_eng['sum'] = pd.DataFrame(train.sum(axis=1))\n",
    "# train_eng['min'] = pd.DataFrame(train.min(axis=1))\n",
    "train_eng['max'] = pd.DataFrame(train.max(axis=1))\n",
    "train_eng['avg'] = pd.DataFrame(train.mean(axis=1))\n",
    "\n",
    "print(train_eng.head())"
   ]
  },
  {
   "cell_type": "code",
   "execution_count": 25,
   "metadata": {},
   "outputs": [
    {
     "name": "stdout",
     "output_type": "stream",
     "text": [
      "               max       avg  diff_max    diff_sum\n",
      "House ID                                          \n",
      "11655099  2.170000  0.569631  1.672000   537.84400\n",
      "11633257  3.842000  0.667629  3.513000   619.08200\n",
      "11651552  4.788000  0.659690  4.112000  1156.64000\n",
      "11636092  4.119000  1.397184  3.140000   939.59000\n",
      "11647239  6.993877  1.423121  5.774877   406.34037\n"
     ]
    }
   ],
   "source": [
    "train_eng['diff_max'] = pd.DataFrame(train_diff.max(axis=1))\n",
    "train_eng['diff_sum'] = pd.DataFrame(train_diff.sum(axis=1))\n",
    "train_eng['diff_sum'] = pd.DataFrame(train_diff.sum(axis=1))\n",
    "print(train_eng.head())"
   ]
  },
  {
   "cell_type": "code",
   "execution_count": 26,
   "metadata": {},
   "outputs": [
    {
     "name": "stdout",
     "output_type": "stream",
     "text": [
      "0 Rows were dropped for NA reasons.\n"
     ]
    }
   ],
   "source": [
    "# Split into features and classifications\n",
    "X = train_eng\n",
    "y = df_a['bool']\n",
    "\n",
    "# Scale the features between -1 and 1\n",
    "from sklearn.preprocessing import StandardScaler\n",
    "scaler = StandardScaler().fit(X)                                    \n",
    "X_scaled = scaler.transform(X)\n",
    "\n",
    "from collections import namedtuple\n",
    "df_summary = namedtuple('df_summary', 'rows cols idx_list')\n",
    "\n",
    "# Drop NA-containing rows from X\n",
    "before = df_summary(X.shape[0], X.shape[1], X.index.tolist())\n",
    "X = X.dropna()\n",
    "after = df_summary(X.shape[0], X.shape[1], X.index.tolist())\n",
    "print(\"{} Rows were dropped for NA reasons.\".format(before.rows - after.rows))\n",
    "\n",
    "# Drop corresponsing rows from y\n",
    "removed_idx = []\n",
    "for house_id in before.idx_list: \n",
    "    if house_id not in after.idx_list: \n",
    "        removed_idx.append(house_id)\n",
    "y = y.drop(index=removed_idx)\n",
    "\n",
    "# Quick validation\n",
    "# print(y.shape, X.shape)\n",
    "\n",
    "# Split data into training and testing\n",
    "from sklearn.model_selection import train_test_split \n",
    "X_train, X_test, y_train, y_test = train_test_split(\n",
    "    X, \n",
    "    y,\n",
    "    random_state=0)\n",
    "\n",
    "# print(X_train.shape, X_test.shape)\n",
    "# print(y_train.shape, y_test.shape)"
   ]
  },
  {
   "cell_type": "code",
   "execution_count": 27,
   "metadata": {},
   "outputs": [
    {
     "name": "stdout",
     "output_type": "stream",
     "text": [
      "Accuracy of logistic regression classifier on test set: 0.76\n"
     ]
    }
   ],
   "source": [
    "# Logistic Regression Model\n",
    "from sklearn.linear_model import LogisticRegression\n",
    "from sklearn import metrics\n",
    "\n",
    "# Solver = ‘newton-cg’, ‘lbfgs’, ‘liblinear’, ‘sag’, ‘saga’\n",
    "logreg = LogisticRegression()\n",
    "logreg.fit(X_train, y_train)\n",
    "y_pred = logreg.predict(X_test)\n",
    "print('Accuracy of logistic regression classifier on test set: {:.2f}'.format(logreg.score(X_test, y_test)))"
   ]
  },
  {
   "cell_type": "code",
   "execution_count": null,
   "metadata": {},
   "outputs": [],
   "source": []
  },
  {
   "cell_type": "code",
   "execution_count": null,
   "metadata": {},
   "outputs": [],
   "source": []
  }
 ],
 "metadata": {
  "kernelspec": {
   "display_name": "Python 3",
   "language": "python",
   "name": "python3"
  },
  "language_info": {
   "codemirror_mode": {
    "name": "ipython",
    "version": 3
   },
   "file_extension": ".py",
   "mimetype": "text/x-python",
   "name": "python",
   "nbconvert_exporter": "python",
   "pygments_lexer": "ipython3",
   "version": "3.7.3"
  }
 },
 "nbformat": 4,
 "nbformat_minor": 2
}
