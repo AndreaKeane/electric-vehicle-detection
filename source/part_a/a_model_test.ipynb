{
 "cells": [
  {
   "cell_type": "code",
   "execution_count": 1,
   "metadata": {},
   "outputs": [],
   "source": [
    "# Setup\n",
    "%load_ext autoreload\n",
    "%autoreload 2\n",
    "import matplotlib.pyplot as plt\n",
    "import numpy as np\n",
    "import pandas as pd\n",
    "import seaborn as sns\n",
    "import warnings\n",
    "from pathlib import Path\n",
    "\n",
    "# Import custom methods\n",
    "import sys\n",
    "sys.path.append(\"../\") # go to parent dir\n",
    "from utilities import utilities as utils\n",
    "\n",
    "# Ignore deprecation warnings\n",
    "warnings.simplefilter(action='ignore', category=FutureWarning)"
   ]
  },
  {
   "cell_type": "code",
   "execution_count": 2,
   "metadata": {},
   "outputs": [],
   "source": [
    "# Setup Paths\n",
    "pickle_path = Path('../../pickles')\n",
    "fig_path = Path('../../figures')\n",
    "\n",
    "# Read in Data\n",
    "features_a = pd.read_pickle(pickle_path / \"features_a.pkl\")\n",
    "X = features_a.drop(['label', 'tot_chrgs'], axis=1)\n",
    "y = features_a[['label']]\n",
    "\n",
    "# Split data\n",
    "# Same features and splits used for all models\n",
    "X_train, X_test, y_train, y_test = utils.scale_split_data(X, y)"
   ]
  },
  {
   "cell_type": "markdown",
   "metadata": {},
   "source": [
    "## Testing Models\n",
    "Briefly compare the performance of several binary classification models.   \n",
    "• All models use the same Train/Test data split (above)  \n",
    "• All models use thei default parameters, initialized with random_state=0  \n",
    "\n",
    "Comparing the following Models:  \n",
    "• Logistic Regression (LR)  \n",
    "• Support Vector Machine (SVM)  \n",
    "• Neural Network (NN)  \n",
    "• Random Forest (RF)  \n",
    "• K-Nearest Neighbors (KNN)"
   ]
  },
  {
   "cell_type": "code",
   "execution_count": 20,
   "metadata": {},
   "outputs": [],
   "source": [
    "# Setup Scores df\n",
    "scores = pd.DataFrame(columns=['Model', 'train', 'test'])"
   ]
  },
  {
   "cell_type": "code",
   "execution_count": 21,
   "metadata": {},
   "outputs": [],
   "source": [
    "# Logistic Regression \n",
    "from sklearn.linear_model import LogisticRegression\n",
    "LR = LogisticRegression(random_state=0).fit(X_train, np.ravel(y_train))  \n",
    "\n",
    "scores = scores.append({'Model': 'Logistic Regression', \n",
    "                        'train': LR.score(X_train,y_train), \n",
    "                        'test': LR.score(X_test,y_test)}, ignore_index=True)"
   ]
  },
  {
   "cell_type": "code",
   "execution_count": 22,
   "metadata": {},
   "outputs": [
    {
     "name": "stderr",
     "output_type": "stream",
     "text": [
      "/usr/local/lib/python3.7/site-packages/sklearn/svm/base.py:929: ConvergenceWarning: Liblinear failed to converge, increase the number of iterations.\n",
      "  \"the number of iterations.\", ConvergenceWarning)\n"
     ]
    }
   ],
   "source": [
    "# SVM\n",
    "from sklearn import svm\n",
    "SVM = svm.LinearSVC(random_state=0).fit(X_train, np.ravel(y_train))  \n",
    "\n",
    "scores = scores.append({'Model': 'SVM', \n",
    "                        'train': SVM.score(X_train,y_train), \n",
    "                        'test': SVM.score(X_test,y_test)}, ignore_index=True)"
   ]
  },
  {
   "cell_type": "code",
   "execution_count": 23,
   "metadata": {},
   "outputs": [
    {
     "name": "stderr",
     "output_type": "stream",
     "text": [
      "/usr/local/lib/python3.7/site-packages/sklearn/neural_network/multilayer_perceptron.py:566: ConvergenceWarning: Stochastic Optimizer: Maximum iterations (200) reached and the optimization hasn't converged yet.\n",
      "  % self.max_iter, ConvergenceWarning)\n"
     ]
    }
   ],
   "source": [
    "# Neural Network\n",
    "from sklearn.neural_network import MLPClassifier \n",
    "NN = MLPClassifier(random_state=0).fit(X_train, np.ravel(y_train))  \n",
    "nn_score = NN.score(X_test, y_test)\n",
    "\n",
    "scores = scores.append({'Model': 'MLP Classifier', \n",
    "                        'train': NN.score(X_train, y_train), \n",
    "                        'test': NN.score(X_test, y_test)}, ignore_index=True)"
   ]
  },
  {
   "cell_type": "code",
   "execution_count": 24,
   "metadata": {},
   "outputs": [],
   "source": [
    "# Random Forest\n",
    "from sklearn.ensemble import RandomForestClassifier\n",
    "RF = RandomForestClassifier(random_state=0).fit(X_train, np.ravel(y_train))  \n",
    "rf_score = RF.score(X_test,y_test)\n",
    "\n",
    "scores = scores.append({'Model': 'Random Forest', \n",
    "                        'train': RF.score(X_train,y_train), \n",
    "                        'test': RF.score(X_test,y_test)}, ignore_index=True)"
   ]
  },
  {
   "cell_type": "code",
   "execution_count": 25,
   "metadata": {},
   "outputs": [],
   "source": [
    "# KNN\n",
    "from sklearn.neighbors import KNeighborsClassifier\n",
    "neigh = KNeighborsClassifier().fit(X_train, np.ravel(y_train)) \n",
    "knn_score = neigh.score(X_test,y_test)\n",
    "\n",
    "scores = scores.append({'Model': 'K-Nearest Neighbors', \n",
    "                        'train': neigh.score(X_train,y_train), \n",
    "                        'test': neigh.score(X_test,y_test)}, ignore_index=True)"
   ]
  },
  {
   "cell_type": "code",
   "execution_count": 27,
   "metadata": {},
   "outputs": [
    {
     "data": {
      "text/html": [
       "<div>\n",
       "<style scoped>\n",
       "    .dataframe tbody tr th:only-of-type {\n",
       "        vertical-align: middle;\n",
       "    }\n",
       "\n",
       "    .dataframe tbody tr th {\n",
       "        vertical-align: top;\n",
       "    }\n",
       "\n",
       "    .dataframe thead th {\n",
       "        text-align: right;\n",
       "    }\n",
       "</style>\n",
       "<table border=\"1\" class=\"dataframe\">\n",
       "  <thead>\n",
       "    <tr style=\"text-align: right;\">\n",
       "      <th></th>\n",
       "      <th>Model</th>\n",
       "      <th>train</th>\n",
       "      <th>test</th>\n",
       "    </tr>\n",
       "  </thead>\n",
       "  <tbody>\n",
       "    <tr>\n",
       "      <th>0</th>\n",
       "      <td>Logistic Regression</td>\n",
       "      <td>0.861</td>\n",
       "      <td>0.843</td>\n",
       "    </tr>\n",
       "    <tr>\n",
       "      <th>1</th>\n",
       "      <td>SVM</td>\n",
       "      <td>0.856</td>\n",
       "      <td>0.843</td>\n",
       "    </tr>\n",
       "    <tr>\n",
       "      <th>2</th>\n",
       "      <td>Neural Network</td>\n",
       "      <td>0.876</td>\n",
       "      <td>0.866</td>\n",
       "    </tr>\n",
       "    <tr>\n",
       "      <th>3</th>\n",
       "      <td>Random Forest</td>\n",
       "      <td>0.989</td>\n",
       "      <td>0.807</td>\n",
       "    </tr>\n",
       "    <tr>\n",
       "      <th>4</th>\n",
       "      <td>K-Nearest Neighbors</td>\n",
       "      <td>0.880</td>\n",
       "      <td>0.835</td>\n",
       "    </tr>\n",
       "  </tbody>\n",
       "</table>\n",
       "</div>"
      ],
      "text/plain": [
       "                 Model  train   test\n",
       "0  Logistic Regression  0.861  0.843\n",
       "1                  SVM  0.856  0.843\n",
       "2       Neural Network  0.876  0.866\n",
       "3        Random Forest  0.989  0.807\n",
       "4  K-Nearest Neighbors  0.880  0.835"
      ]
     },
     "execution_count": 27,
     "metadata": {},
     "output_type": "execute_result"
    }
   ],
   "source": [
    "# Print results, csv for Report\n",
    "# print(scores.round(3).to_csv())\n",
    "scores.round(3)"
   ]
  },
  {
   "cell_type": "markdown",
   "metadata": {},
   "source": [
    "**Try a few other models**  \n",
    "Based on Kaggle article reccomendation  \n",
    "https://www.kaggle.com/klaudiajankowska/binary-classification-methods-comparison  \n",
    "• Linear Discriminant Analysis  \n",
    "• Quadratic Discriminant Analysis  \n",
    "• Gaussian Naive Bayes  \n",
    "\n",
    "I negelcted to include these models in the report because (a) I don't have enough understanding to effectively evaluate their performance and (b) none of them performed well enough to justify using these models over the ones above. "
   ]
  },
  {
   "cell_type": "code",
   "execution_count": 9,
   "metadata": {},
   "outputs": [
    {
     "name": "stdout",
     "output_type": "stream",
     "text": [
      "LDA Score: 0.830\n"
     ]
    }
   ],
   "source": [
    "from sklearn.discriminant_analysis import LinearDiscriminantAnalysis\n",
    "clf = LinearDiscriminantAnalysis().fit(X_train, np.ravel(y_train))\n",
    "print(\"LDA Score: {:.3f}\".format(clf.score(X_test, y_test)))"
   ]
  },
  {
   "cell_type": "code",
   "execution_count": 10,
   "metadata": {},
   "outputs": [
    {
     "name": "stdout",
     "output_type": "stream",
     "text": [
      "QDA Score: 0.540\n"
     ]
    }
   ],
   "source": [
    "from sklearn.discriminant_analysis import QuadraticDiscriminantAnalysis\n",
    "clf = QuadraticDiscriminantAnalysis().fit(X_train, np.ravel(y_train))\n",
    "print(\"QDA Score: {:.3f}\".format(clf.score(X_test, y_test)))"
   ]
  },
  {
   "cell_type": "code",
   "execution_count": 11,
   "metadata": {},
   "outputs": [
    {
     "name": "stdout",
     "output_type": "stream",
     "text": [
      "Gaussian NB Score: 0.350\n"
     ]
    }
   ],
   "source": [
    "from sklearn.naive_bayes import GaussianNB\n",
    "gnb = GaussianNB().fit(X_train, np.ravel(y_train))\n",
    "print(\"Gaussian NB Score: {:.3f}\".format(gnb.score(X_test, y_test)))"
   ]
  },
  {
   "cell_type": "markdown",
   "metadata": {},
   "source": [
    "## Model Tuning\n",
    "C, Inverse of regularization strength: Default is best\n",
    "Solver: 'liblinear' (default) and 'lbfgs' are the best"
   ]
  },
  {
   "cell_type": "code",
   "execution_count": 50,
   "metadata": {},
   "outputs": [],
   "source": [
    "# Setup Scores df\n",
    "scores = pd.DataFrame(columns=['Tuning', 'train', 'test'])"
   ]
  },
  {
   "cell_type": "code",
   "execution_count": 51,
   "metadata": {},
   "outputs": [],
   "source": [
    "LR = LogisticRegression(random_state=0).fit(X_train, np.ravel(y_train))  \n",
    "scores = scores.append({'Tuning': 'None', \n",
    "                        'train': LR.score(X_train,y_train), \n",
    "                        'test': LR.score(X_test,y_test)}, ignore_index=True)"
   ]
  },
  {
   "cell_type": "code",
   "execution_count": 52,
   "metadata": {},
   "outputs": [],
   "source": [
    "LR = LogisticRegression(random_state=0, C=0.5).fit(X_train, np.ravel(y_train))  \n",
    "scores = scores.append({'Tuning': 'C=0.5', \n",
    "                        'train': LR.score(X_train,y_train), \n",
    "                        'test': LR.score(X_test,y_test)}, ignore_index=True)"
   ]
  },
  {
   "cell_type": "code",
   "execution_count": 53,
   "metadata": {},
   "outputs": [],
   "source": [
    "LR = LogisticRegression(random_state=0, C=0.1).fit(X_train, np.ravel(y_train))  \n",
    "scores = scores.append({'Tuning': 'C=0.1', \n",
    "                        'train': LR.score(X_train,y_train), \n",
    "                        'test': LR.score(X_test,y_test)}, ignore_index=True)"
   ]
  },
  {
   "cell_type": "code",
   "execution_count": 54,
   "metadata": {},
   "outputs": [],
   "source": [
    "LR = LogisticRegression(random_state=0, C=2).fit(X_train, np.ravel(y_train))  \n",
    "scores = scores.append({'Tuning': 'C=2', \n",
    "                        'train': LR.score(X_train,y_train), \n",
    "                        'test': LR.score(X_test,y_test)}, ignore_index=True)"
   ]
  },
  {
   "cell_type": "code",
   "execution_count": 55,
   "metadata": {},
   "outputs": [],
   "source": [
    "LR = LogisticRegression(random_state=0, C=5).fit(X_train, np.ravel(y_train))  \n",
    "scores = scores.append({'Tuning': 'C=5', \n",
    "                        'train': LR.score(X_train,y_train), \n",
    "                        'test': LR.score(X_test,y_test)}, ignore_index=True)"
   ]
  },
  {
   "cell_type": "code",
   "execution_count": 56,
   "metadata": {},
   "outputs": [
    {
     "data": {
      "text/html": [
       "<div>\n",
       "<style scoped>\n",
       "    .dataframe tbody tr th:only-of-type {\n",
       "        vertical-align: middle;\n",
       "    }\n",
       "\n",
       "    .dataframe tbody tr th {\n",
       "        vertical-align: top;\n",
       "    }\n",
       "\n",
       "    .dataframe thead th {\n",
       "        text-align: right;\n",
       "    }\n",
       "</style>\n",
       "<table border=\"1\" class=\"dataframe\">\n",
       "  <thead>\n",
       "    <tr style=\"text-align: right;\">\n",
       "      <th></th>\n",
       "      <th>Tuning</th>\n",
       "      <th>train</th>\n",
       "      <th>test</th>\n",
       "    </tr>\n",
       "  </thead>\n",
       "  <tbody>\n",
       "    <tr>\n",
       "      <th>0</th>\n",
       "      <td>None</td>\n",
       "      <td>0.860825</td>\n",
       "      <td>0.843188</td>\n",
       "    </tr>\n",
       "    <tr>\n",
       "      <th>1</th>\n",
       "      <td>C=0.5</td>\n",
       "      <td>0.861684</td>\n",
       "      <td>0.838046</td>\n",
       "    </tr>\n",
       "    <tr>\n",
       "      <th>2</th>\n",
       "      <td>C=0.1</td>\n",
       "      <td>0.840206</td>\n",
       "      <td>0.809769</td>\n",
       "    </tr>\n",
       "    <tr>\n",
       "      <th>3</th>\n",
       "      <td>C=2</td>\n",
       "      <td>0.859966</td>\n",
       "      <td>0.838046</td>\n",
       "    </tr>\n",
       "    <tr>\n",
       "      <th>4</th>\n",
       "      <td>C=5</td>\n",
       "      <td>0.857388</td>\n",
       "      <td>0.840617</td>\n",
       "    </tr>\n",
       "  </tbody>\n",
       "</table>\n",
       "</div>"
      ],
      "text/plain": [
       "  Tuning     train      test\n",
       "0   None  0.860825  0.843188\n",
       "1  C=0.5  0.861684  0.838046\n",
       "2  C=0.1  0.840206  0.809769\n",
       "3    C=2  0.859966  0.838046\n",
       "4    C=5  0.857388  0.840617"
      ]
     },
     "execution_count": 56,
     "metadata": {},
     "output_type": "execute_result"
    }
   ],
   "source": [
    "scores"
   ]
  },
  {
   "cell_type": "code",
   "execution_count": 57,
   "metadata": {},
   "outputs": [],
   "source": [
    "# ‘newton-cg’, ‘lbfgs’, ‘liblinear’, ‘sag’, ‘saga’}\n",
    "# Setup Scores df\n",
    "scores = pd.DataFrame(columns=['Tuning', 'train', 'test'])"
   ]
  },
  {
   "cell_type": "code",
   "execution_count": 58,
   "metadata": {},
   "outputs": [],
   "source": [
    "LR = LogisticRegression(random_state=0).fit(X_train, np.ravel(y_train))  \n",
    "scores = scores.append({'Tuning': 'None', \n",
    "                        'train': LR.score(X_train,y_train), \n",
    "                        'test': LR.score(X_test,y_test)}, ignore_index=True)"
   ]
  },
  {
   "cell_type": "code",
   "execution_count": 59,
   "metadata": {},
   "outputs": [],
   "source": [
    "LR = LogisticRegression(random_state=0, solver='newton-cg').fit(X_train, np.ravel(y_train))  \n",
    "scores = scores.append({'Tuning': 'newton-cg', \n",
    "                        'train': LR.score(X_train,y_train), \n",
    "                        'test': LR.score(X_test,y_test)}, ignore_index=True)"
   ]
  },
  {
   "cell_type": "code",
   "execution_count": 60,
   "metadata": {},
   "outputs": [],
   "source": [
    "LR = LogisticRegression(random_state=0, solver='lbfgs').fit(X_train, np.ravel(y_train))  \n",
    "scores = scores.append({'Tuning': 'lbfgs', \n",
    "                        'train': LR.score(X_train,y_train), \n",
    "                        'test': LR.score(X_test,y_test)}, ignore_index=True)"
   ]
  },
  {
   "cell_type": "code",
   "execution_count": 61,
   "metadata": {},
   "outputs": [
    {
     "name": "stderr",
     "output_type": "stream",
     "text": [
      "/usr/local/lib/python3.7/site-packages/sklearn/linear_model/sag.py:337: ConvergenceWarning: The max_iter was reached which means the coef_ did not converge\n",
      "  \"the coef_ did not converge\", ConvergenceWarning)\n"
     ]
    }
   ],
   "source": [
    "LR = LogisticRegression(random_state=0, solver='sag').fit(X_train, np.ravel(y_train))  \n",
    "scores = scores.append({'Tuning': 'sag', \n",
    "                        'train': LR.score(X_train,y_train), \n",
    "                        'test': LR.score(X_test,y_test)}, ignore_index=True)"
   ]
  },
  {
   "cell_type": "code",
   "execution_count": 62,
   "metadata": {},
   "outputs": [
    {
     "name": "stderr",
     "output_type": "stream",
     "text": [
      "/usr/local/lib/python3.7/site-packages/sklearn/linear_model/sag.py:337: ConvergenceWarning: The max_iter was reached which means the coef_ did not converge\n",
      "  \"the coef_ did not converge\", ConvergenceWarning)\n"
     ]
    }
   ],
   "source": [
    "LR = LogisticRegression(random_state=0, solver='saga').fit(X_train, np.ravel(y_train))  \n",
    "scores = scores.append({'Tuning': 'saga', \n",
    "                        'train': LR.score(X_train,y_train), \n",
    "                        'test': LR.score(X_test,y_test)}, ignore_index=True)"
   ]
  },
  {
   "cell_type": "code",
   "execution_count": 63,
   "metadata": {},
   "outputs": [
    {
     "data": {
      "text/html": [
       "<div>\n",
       "<style scoped>\n",
       "    .dataframe tbody tr th:only-of-type {\n",
       "        vertical-align: middle;\n",
       "    }\n",
       "\n",
       "    .dataframe tbody tr th {\n",
       "        vertical-align: top;\n",
       "    }\n",
       "\n",
       "    .dataframe thead th {\n",
       "        text-align: right;\n",
       "    }\n",
       "</style>\n",
       "<table border=\"1\" class=\"dataframe\">\n",
       "  <thead>\n",
       "    <tr style=\"text-align: right;\">\n",
       "      <th></th>\n",
       "      <th>Tuning</th>\n",
       "      <th>train</th>\n",
       "      <th>test</th>\n",
       "    </tr>\n",
       "  </thead>\n",
       "  <tbody>\n",
       "    <tr>\n",
       "      <th>0</th>\n",
       "      <td>None</td>\n",
       "      <td>0.860825</td>\n",
       "      <td>0.843188</td>\n",
       "    </tr>\n",
       "    <tr>\n",
       "      <th>1</th>\n",
       "      <td>newton-cg</td>\n",
       "      <td>0.859966</td>\n",
       "      <td>0.843188</td>\n",
       "    </tr>\n",
       "    <tr>\n",
       "      <th>2</th>\n",
       "      <td>lbfgs</td>\n",
       "      <td>0.859966</td>\n",
       "      <td>0.845758</td>\n",
       "    </tr>\n",
       "    <tr>\n",
       "      <th>3</th>\n",
       "      <td>sag</td>\n",
       "      <td>0.853952</td>\n",
       "      <td>0.825193</td>\n",
       "    </tr>\n",
       "    <tr>\n",
       "      <th>4</th>\n",
       "      <td>saga</td>\n",
       "      <td>0.843643</td>\n",
       "      <td>0.812339</td>\n",
       "    </tr>\n",
       "  </tbody>\n",
       "</table>\n",
       "</div>"
      ],
      "text/plain": [
       "      Tuning     train      test\n",
       "0       None  0.860825  0.843188\n",
       "1  newton-cg  0.859966  0.843188\n",
       "2      lbfgs  0.859966  0.845758\n",
       "3        sag  0.853952  0.825193\n",
       "4       saga  0.843643  0.812339"
      ]
     },
     "execution_count": 63,
     "metadata": {},
     "output_type": "execute_result"
    }
   ],
   "source": [
    "scores"
   ]
  },
  {
   "cell_type": "code",
   "execution_count": null,
   "metadata": {},
   "outputs": [],
   "source": []
  },
  {
   "cell_type": "code",
   "execution_count": null,
   "metadata": {},
   "outputs": [],
   "source": []
  }
 ],
 "metadata": {
  "kernelspec": {
   "display_name": "Python 3",
   "language": "python",
   "name": "python3"
  },
  "language_info": {
   "codemirror_mode": {
    "name": "ipython",
    "version": 3
   },
   "file_extension": ".py",
   "mimetype": "text/x-python",
   "name": "python",
   "nbconvert_exporter": "python",
   "pygments_lexer": "ipython3",
   "version": "3.7.3"
  }
 },
 "nbformat": 4,
 "nbformat_minor": 2
}
