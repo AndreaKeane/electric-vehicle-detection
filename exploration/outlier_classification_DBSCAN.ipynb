{
 "cells": [
  {
   "cell_type": "code",
   "execution_count": 2,
   "metadata": {},
   "outputs": [],
   "source": [
    "# Generic Setup\n",
    "from pathlib import Path\n",
    "import pandas as pd\n",
    "import warnings\n",
    "warnings.simplefilter(action='ignore', category=FutureWarning)"
   ]
  },
  {
   "cell_type": "code",
   "execution_count": 25,
   "metadata": {},
   "outputs": [
    {
     "name": "stdout",
     "output_type": "stream",
     "text": [
      "Data Frame Shapes\n",
      "Test: (699, 2880)\n",
      "Train: (1590, 2880)\n",
      "Labels: (1590, 2880)\n"
     ]
    }
   ],
   "source": [
    "# File Setup\n",
    "data_folder = Path('/Users/andreakeane/Documents/DataScience/GridCure_Problems/EV_files/')\n",
    "\n",
    "# Test Data\n",
    "file_evtest = data_folder / \"EV_test.csv\"\n",
    "test = pd.read_csv(file_evtest, index_col='House ID')\n",
    "\n",
    "# Train Data\n",
    "file_evtrain = data_folder / \"EV_train.csv\"\n",
    "train = pd.read_csv(file_evtrain, index_col='House ID')\n",
    "\n",
    "# Train Labels\n",
    "file_evlabels = data_folder / \"EV_train_labels.csv\"\n",
    "labels = pd.read_csv(file_evlabels, index_col='House ID')\n",
    "\n",
    "print(\"Data Frame Shapes\")\n",
    "print(\"Test: {}\".format(test.shape))\n",
    "print(\"Train: {}\".format(train.shape))\n",
    "print(\"Labels: {}\".format(labels.shape))"
   ]
  },
  {
   "cell_type": "markdown",
   "metadata": {},
   "source": [
    "Questions to ask: \n",
    "1. Which and how many features am I taking into account to detect outliers ? (univariate / multivariate)  \n",
    "2. Can I assume a distribution(s) of values for my selected features? (parametric / non-parametric)  \n",
    "\n",
    "\n",
    "Some of the most popular methods for outlier detection are:\n",
    "  * Z-Score or Extreme Value Analysis (parametric)  \n",
    "  * Probabilistic and Statistical Modeling (parametric)  \n",
    "  * Linear Regression Models (PCA, LMS)  \n",
    "  * Proximity Based Models (non-parametric)  \n",
    "  * Information Theory Models  \n",
    "  * High Dimensional Outlier Detection Methods (high dimensional sparse data)  \n",
    "\n",
    "https://towardsdatascience.com/a-brief-overview-of-outlier-detection-techniques-1e0b2c19e561\n",
    "\n",
    "DBScan  \n",
    "https://scikit-learn.org/stable/auto_examples/cluster/plot_dbscan.html#sphx-glr-auto-examples-cluster-plot-dbscan-py \n",
    "\n"
   ]
  },
  {
   "cell_type": "code",
   "execution_count": 52,
   "metadata": {},
   "outputs": [
    {
     "name": "stdout",
     "output_type": "stream",
     "text": [
      "4 Rows were dropped for NA reasons.\n"
     ]
    }
   ],
   "source": [
    "X = train.copy(deep=True)\n",
    "\n",
    "from collections import namedtuple\n",
    "df_summary = namedtuple('df_summary', \n",
    "                        ['rows', 'cols', 'idx_list'])\n",
    "\n",
    "# Drop NA-containing rows from X\n",
    "before = df_summary(X.shape[0], X.shape[1], X.index.tolist())\n",
    "X = X.dropna()\n",
    "after = df_summary(X.shape[0], X.shape[1], X.index.tolist())\n",
    "print(\"{} Rows were dropped for NA reasons.\".format(before.rows - after.rows))\n",
    "\n",
    "# Scale the features between -1 and 1\n",
    "from sklearn.preprocessing import StandardScaler\n",
    "scaler = StandardScaler().fit(X)                                    \n",
    "X_scaled = scaler.transform(X)"
   ]
  },
  {
   "cell_type": "markdown",
   "metadata": {},
   "source": [
    "## DBScan \n",
    "https://scikit-learn.org/stable/modules/clustering.html#dbscan  \n",
    "https://scikit-learn.org/stable/auto_examples/cluster/plot_dbscan.html#sphx-glr-auto-examples-cluster-plot-dbscan-py  \n",
    "\n",
    "IMPORTANT NOTE: I tried this and wasn't satisfied with the outcome. Therefore, this is not the final approach I took to classifying outliers. \n",
    "\n",
    "There are two parameters to the algorithm, min_samples and eps, which define formally what we mean when we say dense. Higher min_samples or lower eps indicate higher density necessary to form a cluster."
   ]
  },
  {
   "cell_type": "code",
   "execution_count": 60,
   "metadata": {},
   "outputs": [
    {
     "name": "stdout",
     "output_type": "stream",
     "text": [
      "0.5, 0, 1586\n",
      "1, 0, 1586\n",
      "2, 0, 1586\n",
      "3, 0, 1586\n",
      "5, 1, 1510\n",
      "7, 1, 1290\n",
      "10, 1, 891\n",
      "20, 1, 145\n",
      "50, 1, 39\n",
      "80, 1, 22\n"
     ]
    }
   ],
   "source": [
    "# DBScan \n",
    "import numpy as np\n",
    "from sklearn.cluster import DBSCAN\n",
    "\n",
    "# #############################################################################\n",
    "# Compute DBSCAN\n",
    "for e in [0.5, 1, 2, 3, 5, 7, 10, 20, 50, 80]: \n",
    "    db = DBSCAN(eps=e, min_samples=20).fit(X_scaled)\n",
    "    core_samples_mask = np.zeros_like(db.labels_, dtype=bool)\n",
    "    core_samples_mask[db.core_sample_indices_] = True\n",
    "    labels = db.labels_\n",
    "\n",
    "    # Number of clusters in labels, ignoring noise if present.\n",
    "    n_clusters_ = len(set(labels)) - (1 if -1 in labels else 0)\n",
    "    n_noise_ = list(labels).count(-1)\n",
    "\n",
    "    print(\"{}, {}, {}\".format(e, n_clusters_, n_noise_))\n",
    "\n",
    "# print('Estimated number of clusters: {}'.format(n_clusters_))\n",
    "# print('Estimated number of noise points: %d' % n_noise_)\n"
   ]
  },
  {
   "cell_type": "code",
   "execution_count": 62,
   "metadata": {},
   "outputs": [
    {
     "data": {
      "image/png": "[encoded data removed]",
      "text/plain": [
       "<Figure size 432x288 with 1 Axes>"
      ]
     },
     "metadata": {
      "needs_background": "light"
     },
     "output_type": "display_data"
    }
   ],
   "source": [
    "# #############################################################################\n",
    "# Plot result\n",
    "import matplotlib.pyplot as plt\n",
    "\n",
    "# Black removed and is used for noise instead.\n",
    "unique_labels = set(labels)\n",
    "colors = [plt.cm.Spectral(each)\n",
    "          for each in np.linspace(0, 1, len(unique_labels))]\n",
    "for k, col in zip(unique_labels, colors):\n",
    "    if k == -1:\n",
    "        # Black used for noise.\n",
    "        col = [0, 0, 0, 1]\n",
    "\n",
    "    class_member_mask = (labels == k)\n",
    "\n",
    "    xy = X_scaled[class_member_mask & core_samples_mask]\n",
    "    thing_1 = xy[:, 0]\n",
    "    thing_2 = xy[:, 1]\n",
    "    plt.plot(thing_1, thing_2, 'o', markerfacecolor=tuple(col), markeredgecolor='k', markersize=14)\n",
    "\n",
    "    xy = X_scaled[class_member_mask & ~core_samples_mask]\n",
    "    plt.plot(xy[:, 0], xy[:, 1], 'o', markerfacecolor=tuple(col), markeredgecolor='k', markersize=6)\n",
    "\n",
    "plt.title('Estimated number of clusters: %d' % n_clusters_)\n",
    "plt.show()"
   ]
  },
  {
   "cell_type": "code",
   "execution_count": null,
   "metadata": {},
   "outputs": [],
   "source": []
  }
 ],
 "metadata": {
  "kernelspec": {
   "display_name": "Python 3",
   "language": "python",
   "name": "python3"
  },
  "language_info": {
   "codemirror_mode": {
    "name": "ipython",
    "version": 3
   },
   "file_extension": ".py",
   "mimetype": "text/x-python",
   "name": "python",
   "nbconvert_exporter": "python",
   "pygments_lexer": "ipython3",
   "version": "3.7.3"
  }
 },
 "nbformat": 4,
 "nbformat_minor": 2
}
